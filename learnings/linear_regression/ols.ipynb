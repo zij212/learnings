{
 "cells": [
  {
   "cell_type": "markdown",
   "metadata": {},
   "source": [
    "# OLS\n",
    "\n",
    "1. [closed form solution](#closed-form-solution)\n",
    "1. [interpreting results](#interpreting-results)\n",
    "    - [degree of freedoms](#degree-of-freedoms)\n",
    "    - [covariance type](#covariance-type)\n",
    "    - [variances](#variances)\n",
    "        - [$r^2$](#r-squared)\n",
    "        - [tss, ess, rss, and their degree of freedom](#tss-ess-rss-and-their-dof)\n",
    "        - [adjusted $r^2$](#adjusted-r-squared)\n",
    "    - [likelihood](#likelihood)\n",
    "        - [log likelihood](#log-likelihood)\n",
    "        - [AIC](#aic)\n",
    "        - [BIC](#bic)\n",
    "    - [regression coefficient](#regression-coefficient)\n",
    "        - [SE($\\hat{\\beta}$)](#standard-error-of-regression-coefficient)\n",
    "        - [t-statistic for H0: $\\beta=0$](#t-statistic-of-regression-coefficient)\n",
    "        - [p-value for H0: $\\beta=0$](#p-value-of-regression-coefficient-significance)\n",
    "        - [CI for $\\beta$](#confidence-interval-of-regression-coefficient)\n",
    "        - [F-statistic, and probability of F-statistic](#f-statistic-and-probability-of-f-statistic)\n",
    "    - [normality tests: omnibus, jaque bera test, skew, kurtosis](#normality-tests)\n",
    "    - [multicollinearity](#multicollinearity)\n",
    "        - [condition number](#condition-number)\n",
    "\n",
    "1. [resources](#resources)"
   ]
  },
  {
   "cell_type": "markdown",
   "metadata": {},
   "source": [
    "## Closed form solution\n",
    "\n",
    "OLS finds the weight that minimize the residual sum of squares\n",
    "\n",
    "\n",
    "\\begin{align}\n",
    "\\mathbf{ \\min_{\\beta} L=(y-X\\beta)^T(y-X\\beta)}\n",
    "\\end{align}\n",
    "\n",
    "\n",
    "\n",
    "\n",
    "We can get the closed form solution by setting the first derivative of the above loss function with respect to $\\beta$ to 0.\n",
    "\n",
    "\n",
    "\\begin{align}\n",
    "\\mathbf{ \\frac{dL}{d\\beta}} & = \\mathbf{2X^T(y-X\\beta)} = 0\\\\\n",
    "& \\mathbf{ \\hat{\\beta}=(X^TX)^{-1}X^Ty}\n",
    "\\end{align}\n"
   ]
  },
  {
   "cell_type": "markdown",
   "metadata": {},
   "source": [
    "Next, we'll apply this solution to a toy dataset."
   ]
  },
  {
   "cell_type": "code",
   "execution_count": 1,
   "metadata": {},
   "outputs": [],
   "source": [
    "import numpy as np\n",
    "from sklearn.datasets import load_diabetes"
   ]
  },
  {
   "cell_type": "code",
   "execution_count": 2,
   "metadata": {},
   "outputs": [
    {
     "data": {
      "text/plain": [
       "dict_keys(['data', 'target', 'frame', 'DESCR', 'feature_names', 'data_filename', 'target_filename', 'data_module'])"
      ]
     },
     "execution_count": 2,
     "metadata": {},
     "output_type": "execute_result"
    }
   ],
   "source": [
    "data = load_diabetes()\n",
    "data.keys()"
   ]
  },
  {
   "cell_type": "code",
   "execution_count": 3,
   "metadata": {},
   "outputs": [
    {
     "name": "stdout",
     "output_type": "stream",
     "text": [
      "['age', 'sex', 'bmi', 'bp', 's1', 's2', 's3', 's4', 's5', 's6']\n",
      "(442, 10)\n"
     ]
    }
   ],
   "source": [
    "X = data.data\n",
    "y = data.target\n",
    "print(data.feature_names)\n",
    "print(X.shape)"
   ]
  },
  {
   "cell_type": "markdown",
   "metadata": {},
   "source": [
    "We need to add a column of 1s to `X` for the intercept."
   ]
  },
  {
   "cell_type": "code",
   "execution_count": 4,
   "metadata": {},
   "outputs": [],
   "source": [
    "X = np.hstack([np.ones_like(y)[:, np.newaxis], X])"
   ]
  },
  {
   "cell_type": "code",
   "execution_count": 5,
   "metadata": {},
   "outputs": [
    {
     "data": {
      "text/plain": [
       "array([ 152.13348416,  -10.0098663 , -239.81564367,  519.84592005,\n",
       "        324.3846455 , -792.17563855,  476.73902101,  101.04326794,\n",
       "        177.06323767,  751.27369956,   67.62669218])"
      ]
     },
     "execution_count": 5,
     "metadata": {},
     "output_type": "execute_result"
    }
   ],
   "source": [
    "beta_hat = np.linalg.inv(X.T @ X) @ (X.T @ y)\n",
    "beta_hat"
   ]
  },
  {
   "cell_type": "markdown",
   "metadata": {},
   "source": [
    "To validate the results above, we'll run the data through `statsmodels.api.OLS`"
   ]
  },
  {
   "cell_type": "code",
   "execution_count": 6,
   "metadata": {},
   "outputs": [
    {
     "data": {
      "text/plain": [
       "array([ 152.13348416,  -10.0098663 , -239.81564367,  519.84592005,\n",
       "        324.3846455 , -792.17563855,  476.73902101,  101.04326794,\n",
       "        177.06323767,  751.27369956,   67.62669218])"
      ]
     },
     "execution_count": 6,
     "metadata": {},
     "output_type": "execute_result"
    }
   ],
   "source": [
    "import statsmodels.api as sm\n",
    "\n",
    "model = sm.OLS(y, X)\n",
    "result = model.fit()\n",
    "result.params"
   ]
  },
  {
   "cell_type": "markdown",
   "metadata": {},
   "source": [
    "Looking good!\n",
    "\n",
    "In real life, we don't need to manually calculate the closed-form solution, but it is extremely important to understand each component of the OLS output."
   ]
  },
  {
   "cell_type": "markdown",
   "metadata": {},
   "source": [
    "## Interpreting Results"
   ]
  },
  {
   "cell_type": "code",
   "execution_count": 7,
   "metadata": {},
   "outputs": [
    {
     "data": {
      "text/html": [
       "<table class=\"simpletable\">\n",
       "<caption>OLS Regression Results</caption>\n",
       "<tr>\n",
       "  <th>Dep. Variable:</th>            <td>y</td>        <th>  R-squared:         </th> <td>   0.518</td>\n",
       "</tr>\n",
       "<tr>\n",
       "  <th>Model:</th>                   <td>OLS</td>       <th>  Adj. R-squared:    </th> <td>   0.507</td>\n",
       "</tr>\n",
       "<tr>\n",
       "  <th>Method:</th>             <td>Least Squares</td>  <th>  F-statistic:       </th> <td>   46.27</td>\n",
       "</tr>\n",
       "<tr>\n",
       "  <th>Date:</th>             <td>Fri, 26 Apr 2024</td> <th>  Prob (F-statistic):</th> <td>3.83e-62</td>\n",
       "</tr>\n",
       "<tr>\n",
       "  <th>Time:</th>                 <td>14:16:11</td>     <th>  Log-Likelihood:    </th> <td> -2386.0</td>\n",
       "</tr>\n",
       "<tr>\n",
       "  <th>No. Observations:</th>      <td>   442</td>      <th>  AIC:               </th> <td>   4794.</td>\n",
       "</tr>\n",
       "<tr>\n",
       "  <th>Df Residuals:</th>          <td>   431</td>      <th>  BIC:               </th> <td>   4839.</td>\n",
       "</tr>\n",
       "<tr>\n",
       "  <th>Df Model:</th>              <td>    10</td>      <th>                     </th>     <td> </td>   \n",
       "</tr>\n",
       "<tr>\n",
       "  <th>Covariance Type:</th>      <td>nonrobust</td>    <th>                     </th>     <td> </td>   \n",
       "</tr>\n",
       "</table>\n",
       "<table class=\"simpletable\">\n",
       "<tr>\n",
       "    <td></td>       <th>coef</th>     <th>std err</th>      <th>t</th>      <th>P>|t|</th>  <th>[0.025</th>    <th>0.975]</th>  \n",
       "</tr>\n",
       "<tr>\n",
       "  <th>const</th> <td>  152.1335</td> <td>    2.576</td> <td>   59.061</td> <td> 0.000</td> <td>  147.071</td> <td>  157.196</td>\n",
       "</tr>\n",
       "<tr>\n",
       "  <th>x1</th>    <td>  -10.0099</td> <td>   59.749</td> <td>   -0.168</td> <td> 0.867</td> <td> -127.446</td> <td>  107.426</td>\n",
       "</tr>\n",
       "<tr>\n",
       "  <th>x2</th>    <td> -239.8156</td> <td>   61.222</td> <td>   -3.917</td> <td> 0.000</td> <td> -360.147</td> <td> -119.484</td>\n",
       "</tr>\n",
       "<tr>\n",
       "  <th>x3</th>    <td>  519.8459</td> <td>   66.533</td> <td>    7.813</td> <td> 0.000</td> <td>  389.076</td> <td>  650.616</td>\n",
       "</tr>\n",
       "<tr>\n",
       "  <th>x4</th>    <td>  324.3846</td> <td>   65.422</td> <td>    4.958</td> <td> 0.000</td> <td>  195.799</td> <td>  452.970</td>\n",
       "</tr>\n",
       "<tr>\n",
       "  <th>x5</th>    <td> -792.1756</td> <td>  416.680</td> <td>   -1.901</td> <td> 0.058</td> <td>-1611.153</td> <td>   26.802</td>\n",
       "</tr>\n",
       "<tr>\n",
       "  <th>x6</th>    <td>  476.7390</td> <td>  339.030</td> <td>    1.406</td> <td> 0.160</td> <td> -189.620</td> <td> 1143.098</td>\n",
       "</tr>\n",
       "<tr>\n",
       "  <th>x7</th>    <td>  101.0433</td> <td>  212.531</td> <td>    0.475</td> <td> 0.635</td> <td> -316.684</td> <td>  518.770</td>\n",
       "</tr>\n",
       "<tr>\n",
       "  <th>x8</th>    <td>  177.0632</td> <td>  161.476</td> <td>    1.097</td> <td> 0.273</td> <td> -140.315</td> <td>  494.441</td>\n",
       "</tr>\n",
       "<tr>\n",
       "  <th>x9</th>    <td>  751.2737</td> <td>  171.900</td> <td>    4.370</td> <td> 0.000</td> <td>  413.407</td> <td> 1089.140</td>\n",
       "</tr>\n",
       "<tr>\n",
       "  <th>x10</th>   <td>   67.6267</td> <td>   65.984</td> <td>    1.025</td> <td> 0.306</td> <td>  -62.064</td> <td>  197.318</td>\n",
       "</tr>\n",
       "</table>\n",
       "<table class=\"simpletable\">\n",
       "<tr>\n",
       "  <th>Omnibus:</th>       <td> 1.506</td> <th>  Durbin-Watson:     </th> <td>   2.029</td>\n",
       "</tr>\n",
       "<tr>\n",
       "  <th>Prob(Omnibus):</th> <td> 0.471</td> <th>  Jarque-Bera (JB):  </th> <td>   1.404</td>\n",
       "</tr>\n",
       "<tr>\n",
       "  <th>Skew:</th>          <td> 0.017</td> <th>  Prob(JB):          </th> <td>   0.496</td>\n",
       "</tr>\n",
       "<tr>\n",
       "  <th>Kurtosis:</th>      <td> 2.726</td> <th>  Cond. No.          </th> <td>    227.</td>\n",
       "</tr>\n",
       "</table><br/><br/>Notes:<br/>[1] Standard Errors assume that the covariance matrix of the errors is correctly specified."
      ],
      "text/latex": [
       "\\begin{center}\n",
       "\\begin{tabular}{lclc}\n",
       "\\toprule\n",
       "\\textbf{Dep. Variable:}    &        y         & \\textbf{  R-squared:         } &     0.518   \\\\\n",
       "\\textbf{Model:}            &       OLS        & \\textbf{  Adj. R-squared:    } &     0.507   \\\\\n",
       "\\textbf{Method:}           &  Least Squares   & \\textbf{  F-statistic:       } &     46.27   \\\\\n",
       "\\textbf{Date:}             & Fri, 26 Apr 2024 & \\textbf{  Prob (F-statistic):} &  3.83e-62   \\\\\n",
       "\\textbf{Time:}             &     14:16:11     & \\textbf{  Log-Likelihood:    } &   -2386.0   \\\\\n",
       "\\textbf{No. Observations:} &         442      & \\textbf{  AIC:               } &     4794.   \\\\\n",
       "\\textbf{Df Residuals:}     &         431      & \\textbf{  BIC:               } &     4839.   \\\\\n",
       "\\textbf{Df Model:}         &          10      & \\textbf{                     } &             \\\\\n",
       "\\textbf{Covariance Type:}  &    nonrobust     & \\textbf{                     } &             \\\\\n",
       "\\bottomrule\n",
       "\\end{tabular}\n",
       "\\begin{tabular}{lcccccc}\n",
       "               & \\textbf{coef} & \\textbf{std err} & \\textbf{t} & \\textbf{P$> |$t$|$} & \\textbf{[0.025} & \\textbf{0.975]}  \\\\\n",
       "\\midrule\n",
       "\\textbf{const} &     152.1335  &        2.576     &    59.061  &         0.000        &      147.071    &      157.196     \\\\\n",
       "\\textbf{x1}    &     -10.0099  &       59.749     &    -0.168  &         0.867        &     -127.446    &      107.426     \\\\\n",
       "\\textbf{x2}    &    -239.8156  &       61.222     &    -3.917  &         0.000        &     -360.147    &     -119.484     \\\\\n",
       "\\textbf{x3}    &     519.8459  &       66.533     &     7.813  &         0.000        &      389.076    &      650.616     \\\\\n",
       "\\textbf{x4}    &     324.3846  &       65.422     &     4.958  &         0.000        &      195.799    &      452.970     \\\\\n",
       "\\textbf{x5}    &    -792.1756  &      416.680     &    -1.901  &         0.058        &    -1611.153    &       26.802     \\\\\n",
       "\\textbf{x6}    &     476.7390  &      339.030     &     1.406  &         0.160        &     -189.620    &     1143.098     \\\\\n",
       "\\textbf{x7}    &     101.0433  &      212.531     &     0.475  &         0.635        &     -316.684    &      518.770     \\\\\n",
       "\\textbf{x8}    &     177.0632  &      161.476     &     1.097  &         0.273        &     -140.315    &      494.441     \\\\\n",
       "\\textbf{x9}    &     751.2737  &      171.900     &     4.370  &         0.000        &      413.407    &     1089.140     \\\\\n",
       "\\textbf{x10}   &      67.6267  &       65.984     &     1.025  &         0.306        &      -62.064    &      197.318     \\\\\n",
       "\\bottomrule\n",
       "\\end{tabular}\n",
       "\\begin{tabular}{lclc}\n",
       "\\textbf{Omnibus:}       &  1.506 & \\textbf{  Durbin-Watson:     } &    2.029  \\\\\n",
       "\\textbf{Prob(Omnibus):} &  0.471 & \\textbf{  Jarque-Bera (JB):  } &    1.404  \\\\\n",
       "\\textbf{Skew:}          &  0.017 & \\textbf{  Prob(JB):          } &    0.496  \\\\\n",
       "\\textbf{Kurtosis:}      &  2.726 & \\textbf{  Cond. No.          } &     227.  \\\\\n",
       "\\bottomrule\n",
       "\\end{tabular}\n",
       "%\\caption{OLS Regression Results}\n",
       "\\end{center}\n",
       "\n",
       "Notes: \\newline\n",
       " [1] Standard Errors assume that the covariance matrix of the errors is correctly specified."
      ],
      "text/plain": [
       "<class 'statsmodels.iolib.summary.Summary'>\n",
       "\"\"\"\n",
       "                            OLS Regression Results                            \n",
       "==============================================================================\n",
       "Dep. Variable:                      y   R-squared:                       0.518\n",
       "Model:                            OLS   Adj. R-squared:                  0.507\n",
       "Method:                 Least Squares   F-statistic:                     46.27\n",
       "Date:                Fri, 26 Apr 2024   Prob (F-statistic):           3.83e-62\n",
       "Time:                        14:16:11   Log-Likelihood:                -2386.0\n",
       "No. Observations:                 442   AIC:                             4794.\n",
       "Df Residuals:                     431   BIC:                             4839.\n",
       "Df Model:                          10                                         \n",
       "Covariance Type:            nonrobust                                         \n",
       "==============================================================================\n",
       "                 coef    std err          t      P>|t|      [0.025      0.975]\n",
       "------------------------------------------------------------------------------\n",
       "const        152.1335      2.576     59.061      0.000     147.071     157.196\n",
       "x1           -10.0099     59.749     -0.168      0.867    -127.446     107.426\n",
       "x2          -239.8156     61.222     -3.917      0.000    -360.147    -119.484\n",
       "x3           519.8459     66.533      7.813      0.000     389.076     650.616\n",
       "x4           324.3846     65.422      4.958      0.000     195.799     452.970\n",
       "x5          -792.1756    416.680     -1.901      0.058   -1611.153      26.802\n",
       "x6           476.7390    339.030      1.406      0.160    -189.620    1143.098\n",
       "x7           101.0433    212.531      0.475      0.635    -316.684     518.770\n",
       "x8           177.0632    161.476      1.097      0.273    -140.315     494.441\n",
       "x9           751.2737    171.900      4.370      0.000     413.407    1089.140\n",
       "x10           67.6267     65.984      1.025      0.306     -62.064     197.318\n",
       "==============================================================================\n",
       "Omnibus:                        1.506   Durbin-Watson:                   2.029\n",
       "Prob(Omnibus):                  0.471   Jarque-Bera (JB):                1.404\n",
       "Skew:                           0.017   Prob(JB):                        0.496\n",
       "Kurtosis:                       2.726   Cond. No.                         227.\n",
       "==============================================================================\n",
       "\n",
       "Notes:\n",
       "[1] Standard Errors assume that the covariance matrix of the errors is correctly specified.\n",
       "\"\"\""
      ]
     },
     "execution_count": 7,
     "metadata": {},
     "output_type": "execute_result"
    }
   ],
   "source": [
    "result.summary()"
   ]
  },
  {
   "cell_type": "markdown",
   "metadata": {},
   "source": [
    "### Degree of Freedoms"
   ]
  },
  {
   "cell_type": "code",
   "execution_count": 8,
   "metadata": {},
   "outputs": [
    {
     "name": "stdout",
     "output_type": "stream",
     "text": [
      "number of observations: 442\n",
      "df residuls: 431\n",
      "df model: 10\n"
     ]
    }
   ],
   "source": [
    "n = len(y)\n",
    "p = len(beta_hat)\n",
    "\n",
    "dof_model = p - 1 # drop 1 for beta_0\n",
    "dof_rss = n - p # lost p dof estimating betas\n",
    "\n",
    "print(f\"number of observations: {n}\")\n",
    "print(f\"df residuls: {dof_rss}\")\n",
    "print(f\"df model: {dof_model}\")"
   ]
  },
  {
   "cell_type": "markdown",
   "metadata": {},
   "source": [
    "### Covariance Type\n",
    "\n",
    "There're 2 types of covariance estimation\n",
    "- non-robust, assuming homoskedasticity (equal variance) in residual \n",
    "- robust, hetereoskedasticity-robust\n",
    "\n",
    "OLS assumes homoskedasticity, so non-robust covariance type is used by default.\n",
    "\n",
    "Read more about this topic\n",
    "- [Heteroskedasticity-consistent standard errors](https://en.wikipedia.org/wiki/Heteroskedasticity-consistent_standard_errors)\n",
    "- [Set covariance type in `statsmodels`](https://www.statsmodels.org/dev/generated/statsmodels.regression.linear_model.RegressionResults.get_robustcov_results.html)\n",
    "- [Change covariance type to robust in statsmodels.logit](https://stackoverflow.com/questions/61171429/change-covariance-type-to-robust-in-statsmodels-logit)"
   ]
  },
  {
   "cell_type": "markdown",
   "metadata": {},
   "source": [
    "### Variances\n",
    "\n",
    "#### R-squared\n",
    "\n",
    "$R^2$, or the coefficient of determination is calculated as\n",
    "\n",
    "\\begin{align}\n",
    "\\mathbf{R^2} & = \\mathbf{\\frac{ESS}{TSS}} = \\mathbf{1 - \\frac{RSS}{TSS}} \n",
    "\\end{align}\n",
    "\n",
    "#### TSS, ESS, RSS, and their DoF\n",
    "\n",
    "Total sum of squares (TSS), explained sum of squares (ESS), and residual sum of squares (RSS) are defiend as\n",
    "\n",
    "\n",
    "\\begin{align}\n",
    "\\mathbf{TTS} & = \\sum_i(y_i-\\bar{y})^2, & \\mathbf{dof_{TTS}} = n - 1\\\\\n",
    "\\mathbf{ESS} & = \\sum_i(\\hat{y}_i-\\bar{y})^2, & \\mathbf{dof_{ESS}} = n - p - 1\\\\\n",
    "\\mathbf{RSS} & = \\sum_i(y_i-\\hat{y}_i)^2, & \\mathbf{dof_{RSS}} = n - p\\\\\n",
    "\\mathbf{TTS} & = \\mathbf{ESS} + \\mathbf{RSS}\n",
    "\\end{align}\n",
    "\n",
    "From the equations above, we can see that,\n",
    "- TSS is proportional to the variance in y. \n",
    "- ESS is proportional to the vairiance in $\\hat{y}$.\n",
    "\n",
    "$R^2$ shows the proportions of variance in y explained by the model fitted on X.\n",
    "\n"
   ]
  },
  {
   "cell_type": "code",
   "execution_count": 9,
   "metadata": {},
   "outputs": [
    {
     "name": "stdout",
     "output_type": "stream",
     "text": [
      "rss 1263985.79\n",
      "ess 1357023.34\n",
      "rss + ess 2621009.12\n",
      "tss  2621009.12\n",
      "r^2: 51.77%\n"
     ]
    }
   ],
   "source": [
    "y_hat = X @ beta_hat\n",
    "y_bar = np.mean(y)\n",
    "\n",
    "rss = np.sum((y - y_hat) ** 2)\n",
    "ess = np.sum((y_hat - y_bar) ** 2)\n",
    "tss = np.sum((y - y_bar) ** 2)\n",
    "\n",
    "print(f\"rss {rss:.2f}\")\n",
    "print(f\"ess {ess:.2f}\")\n",
    "print(f\"rss + ess {rss + ess:.2f}\")\n",
    "print(f\"tss {tss: .2f}\")\n",
    "print(f\"r^2: {ess / tss * 100:.2f}%\")"
   ]
  },
  {
   "cell_type": "markdown",
   "metadata": {},
   "source": [
    "#### Adjusted R squared\n",
    "\n",
    "It's tempting to introduce as many features as possible to explain away the variance in y. Adjusted $r^2$ is introduced to penalize the number of features used in the fitted model.\n",
    "\n",
    "\\begin{align}\n",
    "\\mathbf{R_{adj}^2} & = 1 - \\mathbf{\\frac{RSS /dof_{rss}}{TSS / dof_{tss}}}\n",
    "\\end{align}"
   ]
  },
  {
   "cell_type": "code",
   "execution_count": 10,
   "metadata": {},
   "outputs": [
    {
     "name": "stdout",
     "output_type": "stream",
     "text": [
      "r2_adj: 50.66%\n",
      "dof_tss: 441\n",
      "dof_rss: 431\n"
     ]
    }
   ],
   "source": [
    "n = len(y)\n",
    "p = len(beta_hat)\n",
    "\n",
    "dof_tss = n - 1 # lost 1 dof estimating y bar\n",
    "dof_rss = n - p # lost p dof estimating betas\n",
    "r2_adj = 1 - (rss / tss) / (dof_rss / dof_tss)\n",
    "print(f\"r2_adj: {r2_adj * 100:.2f}%\")\n",
    "print(f\"dof_tss: {dof_tss}\")\n",
    "print(f\"dof_rss: {dof_rss}\")"
   ]
  },
  {
   "cell_type": "markdown",
   "metadata": {},
   "source": [
    "### Likelihood\n",
    "\n",
    "The modeling hypothesis of OLS, h, is \n",
    "\\begin{align}\n",
    "\\mathbf{e = y - \\hat{y}} \\sim \\mathcal{N}(0, \\sigma^2)\n",
    "\\end{align}\n",
    "\n",
    "#### Log Likelihood\n",
    "\n",
    "The log likelihood of observing y given the feature set and modeling hypothesis\n",
    "\\begin{align}\n",
    "\\mathbf{\\log p(y | X; h)} = \\sum_i \\log \\mathcal{N}(e_i | \\mu, \\sigma)\n",
    "\\end{align}\n",
    "\n",
    "We can calculate the sample mean and variance of residual, and use the gaussian pdf $f(x)=\\frac{1}{\\sigma \\sqrt{2\\pi}}e^{-\\frac{1}{2}(\\frac{x-\\mu}{\\sigma})^2}$ to calculate the log likelihood.\n",
    "\n",
    "\n"
   ]
  },
  {
   "cell_type": "code",
   "execution_count": 11,
   "metadata": {},
   "outputs": [
    {
     "name": "stdout",
     "output_type": "stream",
     "text": [
      "mu: 0.00\n",
      "sigma: 53.48\n",
      "log likelihood: -2386.0\n"
     ]
    }
   ],
   "source": [
    "e = y - y_hat\n",
    "mu = np.mean(e)\n",
    "sigma = np.std(e)\n",
    "print(f\"mu: {mu:.2f}\")\n",
    "print(f\"sigma: {sigma:.2f}\")\n",
    "\n",
    "likelihood = 1/(sigma * np.sqrt(2 * np.pi)) * np.exp(-1/2 * ((e - mu) / sigma) ** 2)\n",
    "ll = np.sum(np.log(likelihood))\n",
    "print(f\"log likelihood: {ll:.1f}\")"
   ]
  },
  {
   "cell_type": "markdown",
   "metadata": {},
   "source": [
    "Alternatively, we can use `scipy.stats.norm` to help us estimate the parameters, and calculate the log likelihood "
   ]
  },
  {
   "cell_type": "code",
   "execution_count": 12,
   "metadata": {},
   "outputs": [
    {
     "name": "stdout",
     "output_type": "stream",
     "text": [
      "mu: 0.00\n",
      "sigma: 53.48\n",
      "log likelihood: -2386.0\n"
     ]
    }
   ],
   "source": [
    "from scipy.stats import norm\n",
    "\n",
    "e = y - y_hat\n",
    "mu, sigma = norm.fit(e)\n",
    "print(f\"mu: {mu:.2f}\")\n",
    "print(f\"sigma: {sigma:.2f}\")\n",
    "\n",
    "likelihood = norm.pdf(e, mu, sigma)\n",
    "ll = np.sum(np.log(likelihood))\n",
    "print(f\"log likelihood: {ll:.1f}\")"
   ]
  },
  {
   "cell_type": "markdown",
   "metadata": {},
   "source": [
    "#### AIC\n",
    "\n",
    "Akaike information criterion, is defined as $- 2*ll + 2p$\n",
    "\n",
    "#### BIC\n",
    "\n",
    "Bayesian information criterion, is defined as $- 2*ll + \\ln(n)p$"
   ]
  },
  {
   "cell_type": "code",
   "execution_count": 13,
   "metadata": {},
   "outputs": [
    {
     "name": "stdout",
     "output_type": "stream",
     "text": [
      "aic: 4794\n",
      "bic: 4839\n"
     ]
    }
   ],
   "source": [
    "n = len(y)\n",
    "p = len(beta_hat)\n",
    "\n",
    "aic = - 2 * ll + 2 * p\n",
    "bic = - 2 * ll + np.log(n) * p\n",
    "print(f\"aic: {aic:.0f}\")\n",
    "print(f\"bic: {bic:.0f}\")"
   ]
  },
  {
   "cell_type": "markdown",
   "metadata": {},
   "source": [
    "Log likelhood (or negative log likelihood), AIC, and BIC are used in comparing models. Ideally we want to,\n",
    "\n",
    "- maximize log likelihood\n",
    "- minimize negative log likelihood\n",
    "- minimize AIC\n",
    "- minimize BIC"
   ]
  },
  {
   "cell_type": "markdown",
   "metadata": {},
   "source": [
    "### Regression Coefficient\n",
    "\n",
    "#### Standard Error of Regression Coefficient\n",
    "\n",
    "\n",
    "One of OLS assumption is normality of residuals, which can be extend to the distribution of $\\beta$ .\n",
    "\n",
    "\\begin{align}\n",
    "e & \\sim \\mathcal{N} (0, \\sigma^2I)\\\\\n",
    "\\mathbf{X\\beta - X\\hat{\\beta}} & \\sim \\mathcal{N} (0, \\sigma^2I) \\\\\n",
    "\\mathbf{\\beta - \\hat{\\beta}} & \\sim \\mathcal{N} (0, \\sigma^2(X^TX)^{-1}) \\\\\n",
    "\\mathbf{ \\beta} & \\sim \\mathcal{N} (\\hat{\\beta}, \\sigma^2(X^TX)^{-1})\n",
    "\\end{align}\n",
    "\n",
    "\n",
    "Note that $\\mathbf{Var(AX)=A^TVar(X)A}$, see [variance propagation rule](https://en.wikipedia.org/wiki/Variance#Propagation)\n",
    "\n",
    "With the normality assumption of $\\beta$, we can \n",
    "- compute the confidence interval, \n",
    "- and use t distribution (because $\\sigma$ is unknown) to test H0: $\\beta=0$"
   ]
  },
  {
   "cell_type": "code",
   "execution_count": 14,
   "metadata": {},
   "outputs": [
    {
     "name": "stdout",
     "output_type": "stream",
     "text": [
      "[  2.57585449  59.74924652  61.22234394  66.53344474  65.42199205\n",
      " 416.67987034 339.03049482 212.53145672 161.4757952  171.89998192\n",
      "  65.98428191]\n"
     ]
    }
   ],
   "source": [
    "from numpy.testing import assert_almost_equal\n",
    "\n",
    "e = y - y_hat\n",
    "var_e = np.var(e, ddof=p) # lost degree of freedom estimating betas\n",
    "cov_beta = var_e * np.linalg.inv(X.T @ X)\n",
    "var_beta = np.diagonal(cov_beta)\n",
    "se_beta = np.sqrt(var_beta)\n",
    "\n",
    "print(se_beta)\n",
    "assert_almost_equal(se_beta, result.bse, decimal=10)\n"
   ]
  },
  {
   "cell_type": "markdown",
   "metadata": {},
   "source": [
    "#### T-statistic of Regression Coefficient"
   ]
  },
  {
   "cell_type": "code",
   "execution_count": 15,
   "metadata": {},
   "outputs": [
    {
     "name": "stdout",
     "output_type": "stream",
     "text": [
      "[59.06136587 -0.16753126 -3.91712614  7.81330235  4.95834253 -1.90116129\n",
      "  1.4061833   0.47542735  1.09653114  4.37041174  1.02489093]\n"
     ]
    }
   ],
   "source": [
    "t_val = (beta_hat - 0) / se_beta\n",
    "\n",
    "print(t_val)\n",
    "# comparing it to statsmodels OLS result\n",
    "assert_almost_equal(t_val, result.tvalues, decimal=10)"
   ]
  },
  {
   "cell_type": "markdown",
   "metadata": {},
   "source": [
    "#### P-value of Regression Coefficient Significance"
   ]
  },
  {
   "cell_type": "code",
   "execution_count": 16,
   "metadata": {},
   "outputs": [
    {
     "name": "stdout",
     "output_type": "stream",
     "text": [
      "[1.01008193e-208 8.67030634e-001 1.04167119e-004 4.29639142e-014\n",
      " 1.02427839e-006 5.79476054e-002 1.60390240e-001 6.34723256e-001\n",
      " 2.73458694e-001 1.55589909e-005 3.05989526e-001]\n"
     ]
    }
   ],
   "source": [
    "from scipy.stats import t\n",
    "\n",
    "# t.sf = 1 - t.cdf\n",
    "# p-value is the probability of observing something more extreme on both tails given H0: \\beta = 0 is true \n",
    "p_val = t.sf(np.abs(t_val), n-p) * 2\n",
    "\n",
    "print(p_val)\n",
    "# comparing it to statsmodels OLS result\n",
    "assert_almost_equal(p_val, result.pvalues, decimal=10)\n"
   ]
  },
  {
   "cell_type": "markdown",
   "metadata": {},
   "source": [
    "#### Confidence Interval of Regression Coefficient"
   ]
  },
  {
   "cell_type": "code",
   "execution_count": 17,
   "metadata": {},
   "outputs": [
    {
     "name": "stdout",
     "output_type": "stream",
     "text": [
      "[[  147.07068514   157.19628319]\n",
      " [ -127.44601374   107.42628114]\n",
      " [ -360.14713953  -119.48414782]\n",
      " [  389.07554418   650.61629593]\n",
      " [  195.79881133   452.97047967]\n",
      " [-1611.15297363    26.80169652]\n",
      " [ -189.61976165  1143.09780366]\n",
      " [ -316.6837653    518.77030117]\n",
      " [ -140.31474443   494.44121978]\n",
      " [  413.40715232  1089.14024679]\n",
      " [  -62.06431331   197.31769768]]\n"
     ]
    }
   ],
   "source": [
    "# t.ppf = inverse of t.cdf\n",
    "beta_lb = beta_hat + t.ppf(0.025, df=n-p) * se_beta\n",
    "beta_ub = beta_hat - t.ppf(0.025, df=n-p) * se_beta\n",
    "beta_conf_int = np.hstack([beta_lb[:, np.newaxis], beta_ub[:, np.newaxis]])\n",
    "\n",
    "print(beta_conf_int)\n",
    "# comparing it to statsmodels OLS result\n",
    "assert_almost_equal(beta_conf_int, result.conf_int(), decimal=10)"
   ]
  },
  {
   "cell_type": "markdown",
   "metadata": {},
   "source": [
    "#### F-statistic, and Probability of F-statistic\n",
    "\n",
    "F-test is used when comparing variances. In the context of OLS, we're comparing a model forecasting $\\bar{y}$ for every observation, against a model forecasting $\\mathbf{X\\beta}$.\n",
    "\n",
    "Another way to interpret this is H0: $\\mathbf{\\beta^T}=[0, ..., 0]$\n",
    "\n",
    "\n",
    "$\\mathbf{F = \\frac{\\text{unexplained variance}}{\\text{explained variance}}=\\frac{rss_1-rss_2}{dof_1 - dof_2} / \\frac{rss_2}{dof_2}}$\n",
    "\n",
    "- $\\mathbf{rss_1}$ and $\\mathbf{dof_1}$ are the residual sum of square and degree of freedom of the reduced model\n",
    "\n",
    "- $\\mathbf{rss_2}$ and $\\mathbf{dof_2}$ are the residual sum of square and degree of freedom of the full model\n",
    "\n",
    "\n",
    "Resources:\n",
    "- [F-test for regression problems](https://en.wikipedia.org/wiki/F-test#Regression_problems)\n",
    "- [The General Linear F-Test](https://online.stat.psu.edu/stat501/lesson/6/6.2)\n",
    "\n",
    "\n"
   ]
  },
  {
   "cell_type": "code",
   "execution_count": 18,
   "metadata": {},
   "outputs": [
    {
     "name": "stdout",
     "output_type": "stream",
     "text": [
      "46.27243958524321\n"
     ]
    }
   ],
   "source": [
    "dof_num = ((n - 1) - (n - p))\n",
    "num = (tss - rss) / dof_num\n",
    "dof_denom = n - p\n",
    "denom = rss / dof_denom\n",
    "f_val = num / denom\n",
    "\n",
    "print(f_val)\n",
    "# comparing it to statsmodels OLS result\n",
    "assert f_val == result.fvalue"
   ]
  },
  {
   "cell_type": "code",
   "execution_count": 19,
   "metadata": {},
   "outputs": [
    {
     "name": "stdout",
     "output_type": "stream",
     "text": [
      "3.8286490381849547e-62\n"
     ]
    }
   ],
   "source": [
    "from scipy.stats import f\n",
    "\n",
    "# f.sf = 1 - f.cdf\n",
    "f_pval = f.sf(f_val, dof_num, dof_denom)\n",
    "\n",
    "print(f_pval)\n",
    "assert f_pval == result.f_pvalue\n"
   ]
  },
  {
   "cell_type": "markdown",
   "metadata": {},
   "source": [
    "### Normality Tests\n",
    "\n",
    "The omnibus is the test statistic of D'Agostino $K^2$ test, which uses the sample kurtosis and skewness to measures the goodness-of-fit departure from normality.\n",
    "\n",
    "Jarque-Bera test is also a goodness-of-fit test of whether sample data have the skewness and kurtosis matching a normal distribution.\n",
    "\n",
    "Note that the null hypothesis for both test is H0: the data is from a normal distribution.\n",
    "\n",
    "Resources:\n",
    "- [D'Agostino $K^2$ test](https://en.wikipedia.org/wiki/D%27Agostino%27s_K-squared_test)\n",
    "- [Jarque-Bera test](https://en.wikipedia.org/wiki/Jarque%E2%80%93Bera_test)"
   ]
  },
  {
   "cell_type": "code",
   "execution_count": 20,
   "metadata": {},
   "outputs": [
    {
     "data": {
      "text/plain": [
       "(1.5060119895778554, 0.4709487533613883)"
      ]
     },
     "execution_count": 20,
     "metadata": {},
     "output_type": "execute_result"
    }
   ],
   "source": [
    "from scipy.stats import normaltest\n",
    "\n",
    "omnibus_score, omnibus_pval = normaltest(e)\n",
    "omnibus_score, omnibus_pval "
   ]
  },
  {
   "cell_type": "code",
   "execution_count": 21,
   "metadata": {},
   "outputs": [
    {
     "data": {
      "text/plain": [
       "(1.4037553754122283, 0.4956537465319505)"
      ]
     },
     "execution_count": 21,
     "metadata": {},
     "output_type": "execute_result"
    }
   ],
   "source": [
    "from scipy.stats import jarque_bera\n",
    "\n",
    "jq_score, jq_pval = jarque_bera(e)\n",
    "jq_score, jq_pval"
   ]
  },
  {
   "cell_type": "markdown",
   "metadata": {},
   "source": [
    "Skew indicates the symmetry of the distribution. 0 implies perfect symmetry.\n",
    "\n",
    "Pearson's Kurtosis shows the peakiness of the distribution. A normal distribution's pearson's kurtosis should be close to 3 (or 0 for fisher's kurtosis).\n",
    "\n",
    "\n",
    "Resources:\n",
    "- [skew](https://en.wikipedia.org/wiki/Skewness)\n",
    "- [kurtosis](https://en.wikipedia.org/wiki/Kurtosis)\n",
    "- [scipy.stats.kurtosis](https://docs.scipy.org/doc/scipy/reference/generated/scipy.stats.kurtosis.html)"
   ]
  },
  {
   "cell_type": "code",
   "execution_count": 22,
   "metadata": {},
   "outputs": [
    {
     "data": {
      "application/vnd.plotly.v1+json": {
       "config": {
        "plotlyServerURL": "https://plot.ly"
       },
       "data": [
        {
         "alignmentgroup": "True",
         "bingroup": "x",
         "hovertemplate": "variable=0<br>value=%{x}<br>count=%{y}<extra></extra>",
         "legendgroup": "0",
         "marker": {
          "color": "#636efa",
          "pattern": {
           "shape": ""
          }
         },
         "name": "0",
         "offsetgroup": "0",
         "orientation": "v",
         "showlegend": true,
         "type": "histogram",
         "x": [
          -55.116677245105365,
          6.928967026931119,
          -35.88279035105285,
          39.0855415677712,
          6.537741664000606,
          -9.351914430151496,
          64.10865338411406,
          -55.85423041636807,
          -48.80889721281167,
          96.41537558237852,
          3.925184885512749,
          -26.101084228296486,
          63.93084048339588,
          20.323431584903574,
          14.921857426950993,
          -6.174879635422826,
          -45.75709219720338,
          -38.84134823297211,
          -51.00326937326852,
          43.98245933679533,
          -52.33362196648763,
          -36.80068960974458,
          -45.11345889545541,
          -7.452258367851897,
          18.5122079370623,
          54.28002435915744,
          39.87128458798104,
          -94.09358468156822,
          1.94654042269417,
          98.21885969606438,
          -29.71516712953877,
          -10.475757784854807,
          79.49614635437695,
          -25.82234715645285,
          -13.373182793378547,
          14.336392147253136,
          57.07885331685796,
          118.12358057604186,
          11.15291926874309,
          -46.93257456310991,
          -53.48044608200124,
          -19.154266656406207,
          -84.6274222723786,
          14.170211886764292,
          37.921672317426214,
          -72.21957584302895,
          47.39700140487014,
          32.50437488823165,
          1.8581818234845429,
          -47.87117753761558,
          -2.9350104004302864,
          55.4430047358033,
          -75.18514410342033,
          -53.72539008284275,
          42.88895021118441,
          55.26883144496338,
          -155.82676612155134,
          -43.1117134227469,
          65.91664042474554,
          35.421289458099324,
          -53.23552011556116,
          -36.67628279281536,
          -9.129353684338646,
          29.275953873918112,
          -42.795770261011285,
          -26.957715747554914,
          1.016484289216379,
          -27.34152282817658,
          45.16044959589645,
          56.00042421646211,
          -25.9101708670903,
          33.289457107718476,
          59.688732093723246,
          -13.51672384413017,
          -65.84073896394699,
          -85.75230657546754,
          -21.16896496208841,
          122.94328845939232,
          85.17835070709481,
          21.99408770520033,
          -31.751567967504997,
          -71.83451589448879,
          -11.272313153196038,
          58.00132683231428,
          11.270409228938995,
          -25.005022902857235,
          12.350866700305154,
          -19.042294927823917,
          -38.547017162106386,
          4.098515050700001,
          18.060319891901372,
          -23.167265396690283,
          -144.59890330452518,
          34.92601686733642,
          -17.407691196586697,
          36.95692504235808,
          -57.72402725542591,
          64.78751173261676,
          -31.47464894873417,
          -56.164390338518416,
          -40.213720166011456,
          -4.929025578846392,
          151.35251672451756,
          40.07635990500157,
          -57.75958286775159,
          -63.22381926879501,
          60.9683226569519,
          -11.670520064993923,
          1.8582223021454638,
          -62.49797317002441,
          65.90412728022307,
          -62.85932669604095,
          93.20595336652664,
          89.00297412861516,
          -33.23106132712388,
          39.82428871298464,
          60.97122407088804,
          45.81893490589843,
          13.615195022073891,
          48.75308319698536,
          43.4234044312779,
          -27.440668184679765,
          -39.351931672368806,
          -90.78830390505158,
          -48.23118220980777,
          -26.875370986256286,
          41.506599735275614,
          0.4516394207791308,
          22.312689759702707,
          57.1265265677375,
          28.529022991473937,
          88.15714871017018,
          -6.034859039279013,
          14.573493462508907,
          -38.6963937386148,
          32.53759263033129,
          26.621412735092086,
          44.52876803093733,
          81.07690457051731,
          27.69291101333519,
          -37.51063293130278,
          86.4403855470739,
          64.55669045789031,
          -57.99533949978442,
          -4.554065273809869,
          18.928806924372395,
          -12.338925243155302,
          -100.66470580992222,
          -18.244563387445254,
          -52.36552308062153,
          78.90818300338597,
          -56.85615196780918,
          91.34073254917834,
          -50.342957331266575,
          46.49006981351573,
          -13.018798247540644,
          -121.27926469105083,
          -40.02163345358471,
          10.740869807721467,
          -40.16173729473559,
          -29.173080799569817,
          -14.29474030557256,
          27.630598836194878,
          -66.04628448190923,
          67.00158047343012,
          -18.18813283811531,
          10.6263164401863,
          -42.685579881321246,
          42.87099203703971,
          -68.20301952313096,
          0.40348155899460636,
          -14.101946117463982,
          73.22549963830662,
          3.748002174396632,
          -13.48838424856396,
          7.099031826288012,
          79.19779212316652,
          1.9198779311748524,
          -18.590817731702685,
          -14.84386950627919,
          -72.47680740780908,
          -25.833538457584666,
          -33.82590335495732,
          26.63580064650347,
          63.51814460699788,
          -85.39194958432395,
          -60.47424761438691,
          76.42628352599125,
          -13.599853119891122,
          -37.1831915880325,
          96.08244207314786,
          49.95165504299638,
          -0.20395861993360143,
          -24.572237645121646,
          -69.22669142692288,
          -47.703265813688034,
          -26.75738579812618,
          -61.145688243643605,
          -0.5170489440255608,
          -87.27157771037744,
          62.691877835794585,
          -30.061915066029144,
          31.83608682548129,
          23.93409759848933,
          98.74003368103848,
          -129.5853968443534,
          35.32895862628732,
          -10.287347949694208,
          -67.48339129853369,
          -95.85421282158256,
          65.72053207372468,
          -104.72103206505022,
          -79.38094643119331,
          -49.581356645209226,
          -34.73771331015047,
          0.7049290487893245,
          24.259667779044463,
          74.6602385773831,
          80.38529397874015,
          39.57171796326227,
          24.9543099204843,
          -48.82052358270499,
          98.3138241838553,
          24.777091088786975,
          -0.25168449416806027,
          -22.261808111656734,
          -1.9090807000072516,
          2.794824504767277,
          42.00377221171479,
          -46.06233888563905,
          53.442030527468745,
          -5.341372270697008,
          100.72551744723205,
          -53.056840775708764,
          14.441098823839866,
          -52.647242579652044,
          -120.23580711835064,
          6.609000918670276,
          66.3378120390056,
          82.2481830939928,
          40.09194679643147,
          57.84330974556302,
          -14.63551833698223,
          -53.85975269697376,
          46.58062623263791,
          23.16475977913761,
          -42.66560384797667,
          -32.0664275977567,
          23.41511987947345,
          -30.158627732365943,
          39.73045718182573,
          -31.871272607604,
          -89.67257769338556,
          -53.05642297433826,
          55.783741505379396,
          34.55699077811893,
          77.54630493743616,
          -41.83843473390748,
          -26.86820464349573,
          -90.45857194493351,
          -19.469481916714315,
          -26.83145264703387,
          44.213927282557904,
          70.99065426707361,
          21.711099925272052,
          -57.085688800221675,
          10.108183186274125,
          -23.354671116625923,
          19.698960766161946,
          -2.9592392943409465,
          9.929038063802977,
          -37.3301738572554,
          34.25220276935437,
          49.10907442630034,
          -110.44360298747006,
          -64.34902210384098,
          93.80833037887444,
          -52.58117777059189,
          -9.449753998962208,
          82.54767273675728,
          99.20401646473579,
          -3.8040588566647244,
          90.45548209019074,
          96.82680053739271,
          -3.9367751813763334,
          30.600282629227507,
          -20.481315181368373,
          72.35441432405395,
          0.9468595212972275,
          -123.3377747162958,
          111.32483279366994,
          44.249827193068285,
          -8.864599280983242,
          20.844237477344905,
          -26.798740553215694,
          -67.82909290220272,
          12.199477805223395,
          -66.79590830647372,
          22.162898799616286,
          -40.83461591419102,
          56.86091707420621,
          -61.01937664445744,
          -8.758796602180894,
          5.42320560187224,
          130.94078367125593,
          -11.678244053237336,
          -82.37042531537256,
          23.50625542211472,
          25.92852893148877,
          3.04176385876724,
          -94.8691938005266,
          7.447112678000764,
          21.042985229976196,
          -50.923101625887284,
          -27.891588137061206,
          -13.072942220102732,
          21.634150270099894,
          16.747709325512545,
          -53.64748775986038,
          -2.3157898313962164,
          -69.53493642875449,
          -54.13932208905703,
          -37.31133207120638,
          31.991761713161765,
          38.91331343946976,
          -24.216129910888554,
          -26.014500042925818,
          12.935686277181702,
          -111.06103154469847,
          31.434846852740975,
          65.29729983927845,
          87.18137565602404,
          -21.0019660949759,
          -18.646517519795196,
          -7.333154256335277,
          9.669701493591617,
          56.848991802022454,
          -83.5153768194647,
          91.89708926128783,
          -51.27188709616317,
          45.34516152913912,
          79.50280399729934,
          14.63193737596822,
          -44.03297709235119,
          55.57385050574314,
          13.69946907024763,
          -38.50251197266027,
          -16.576815457644003,
          15.824394819060615,
          -7.062106227629101,
          -6.897557045403175,
          -15.238241256123928,
          15.001529914834023,
          -47.81295052547131,
          79.67781627973665,
          -73.855258037704,
          -39.67249792777726,
          18.504276459139447,
          37.45851073166512,
          136.17200086359816,
          84.08531126522098,
          63.93663020517522,
          85.70058187562844,
          -107.09438096088698,
          101.58238041406901,
          43.62213247301247,
          -21.05587268108161,
          -15.234921556987615,
          -74.50394619563554,
          -17.06877122105564,
          4.378680057425335,
          2.6078336388669925,
          -39.775815004684134,
          25.790087762778086,
          11.17479004282302,
          36.86917801332234,
          -90.26488623854533,
          65.40505953738028,
          80.6614820438032,
          -96.2337407747496,
          -122.51001027850032,
          29.324126566057657,
          -114.29432383485442,
          -26.144944063853842,
          -42.54552901023298,
          78.97756239693092,
          -37.99895704196146,
          109.62716013206224,
          -53.01540595986333,
          -24.168044778468158,
          22.938809528537178,
          9.526617864391824,
          19.516024346277234,
          -31.663155542044933,
          14.413169676029668,
          87.32743247544667,
          -18.917711864217004,
          15.688515786165482,
          70.73051371470117,
          42.80494906705232,
          -12.184946640417934,
          5.878294760626375,
          19.62035682713136,
          23.641845972788303,
          93.30343095510707,
          -2.6357686221552967,
          21.140887628935914,
          -32.14766276487671,
          -15.059760933750198,
          6.834598625022238,
          51.068170887215445,
          -14.500281581918046,
          28.02554631830924,
          -8.581487300991213,
          -33.542454608043016,
          1.3237408065471357,
          30.223110898664174,
          -94.46832103740405,
          -15.139249461492042,
          -38.43418455763414,
          5.8385136348356355,
          20.09289516258835,
          33.71998392169937,
          -62.632773252922135,
          -60.80344337341313,
          39.889451174496855,
          -42.60002916046071,
          -62.84290323669913,
          51.968995317680026,
          -6.708109156799907,
          67.12391802517018,
          -56.535596752358245,
          -45.179798796634856,
          11.056490710346246,
          -82.09296884302609,
          -55.48376601056634,
          -4.609116722489389,
          -15.017565485628353,
          2.9441862938423355,
          10.773318755467898,
          8.141054818393542,
          3.5527252804583895
         ],
         "xaxis": "x",
         "yaxis": "y"
        }
       ],
       "layout": {
        "barmode": "relative",
        "legend": {
         "title": {
          "text": "variable"
         },
         "tracegroupgap": 0
        },
        "template": {
         "data": {
          "bar": [
           {
            "error_x": {
             "color": "#2a3f5f"
            },
            "error_y": {
             "color": "#2a3f5f"
            },
            "marker": {
             "line": {
              "color": "#E5ECF6",
              "width": 0.5
             },
             "pattern": {
              "fillmode": "overlay",
              "size": 10,
              "solidity": 0.2
             }
            },
            "type": "bar"
           }
          ],
          "barpolar": [
           {
            "marker": {
             "line": {
              "color": "#E5ECF6",
              "width": 0.5
             },
             "pattern": {
              "fillmode": "overlay",
              "size": 10,
              "solidity": 0.2
             }
            },
            "type": "barpolar"
           }
          ],
          "carpet": [
           {
            "aaxis": {
             "endlinecolor": "#2a3f5f",
             "gridcolor": "white",
             "linecolor": "white",
             "minorgridcolor": "white",
             "startlinecolor": "#2a3f5f"
            },
            "baxis": {
             "endlinecolor": "#2a3f5f",
             "gridcolor": "white",
             "linecolor": "white",
             "minorgridcolor": "white",
             "startlinecolor": "#2a3f5f"
            },
            "type": "carpet"
           }
          ],
          "choropleth": [
           {
            "colorbar": {
             "outlinewidth": 0,
             "ticks": ""
            },
            "type": "choropleth"
           }
          ],
          "contour": [
           {
            "colorbar": {
             "outlinewidth": 0,
             "ticks": ""
            },
            "colorscale": [
             [
              0,
              "#0d0887"
             ],
             [
              0.1111111111111111,
              "#46039f"
             ],
             [
              0.2222222222222222,
              "#7201a8"
             ],
             [
              0.3333333333333333,
              "#9c179e"
             ],
             [
              0.4444444444444444,
              "#bd3786"
             ],
             [
              0.5555555555555556,
              "#d8576b"
             ],
             [
              0.6666666666666666,
              "#ed7953"
             ],
             [
              0.7777777777777778,
              "#fb9f3a"
             ],
             [
              0.8888888888888888,
              "#fdca26"
             ],
             [
              1,
              "#f0f921"
             ]
            ],
            "type": "contour"
           }
          ],
          "contourcarpet": [
           {
            "colorbar": {
             "outlinewidth": 0,
             "ticks": ""
            },
            "type": "contourcarpet"
           }
          ],
          "heatmap": [
           {
            "colorbar": {
             "outlinewidth": 0,
             "ticks": ""
            },
            "colorscale": [
             [
              0,
              "#0d0887"
             ],
             [
              0.1111111111111111,
              "#46039f"
             ],
             [
              0.2222222222222222,
              "#7201a8"
             ],
             [
              0.3333333333333333,
              "#9c179e"
             ],
             [
              0.4444444444444444,
              "#bd3786"
             ],
             [
              0.5555555555555556,
              "#d8576b"
             ],
             [
              0.6666666666666666,
              "#ed7953"
             ],
             [
              0.7777777777777778,
              "#fb9f3a"
             ],
             [
              0.8888888888888888,
              "#fdca26"
             ],
             [
              1,
              "#f0f921"
             ]
            ],
            "type": "heatmap"
           }
          ],
          "heatmapgl": [
           {
            "colorbar": {
             "outlinewidth": 0,
             "ticks": ""
            },
            "colorscale": [
             [
              0,
              "#0d0887"
             ],
             [
              0.1111111111111111,
              "#46039f"
             ],
             [
              0.2222222222222222,
              "#7201a8"
             ],
             [
              0.3333333333333333,
              "#9c179e"
             ],
             [
              0.4444444444444444,
              "#bd3786"
             ],
             [
              0.5555555555555556,
              "#d8576b"
             ],
             [
              0.6666666666666666,
              "#ed7953"
             ],
             [
              0.7777777777777778,
              "#fb9f3a"
             ],
             [
              0.8888888888888888,
              "#fdca26"
             ],
             [
              1,
              "#f0f921"
             ]
            ],
            "type": "heatmapgl"
           }
          ],
          "histogram": [
           {
            "marker": {
             "pattern": {
              "fillmode": "overlay",
              "size": 10,
              "solidity": 0.2
             }
            },
            "type": "histogram"
           }
          ],
          "histogram2d": [
           {
            "colorbar": {
             "outlinewidth": 0,
             "ticks": ""
            },
            "colorscale": [
             [
              0,
              "#0d0887"
             ],
             [
              0.1111111111111111,
              "#46039f"
             ],
             [
              0.2222222222222222,
              "#7201a8"
             ],
             [
              0.3333333333333333,
              "#9c179e"
             ],
             [
              0.4444444444444444,
              "#bd3786"
             ],
             [
              0.5555555555555556,
              "#d8576b"
             ],
             [
              0.6666666666666666,
              "#ed7953"
             ],
             [
              0.7777777777777778,
              "#fb9f3a"
             ],
             [
              0.8888888888888888,
              "#fdca26"
             ],
             [
              1,
              "#f0f921"
             ]
            ],
            "type": "histogram2d"
           }
          ],
          "histogram2dcontour": [
           {
            "colorbar": {
             "outlinewidth": 0,
             "ticks": ""
            },
            "colorscale": [
             [
              0,
              "#0d0887"
             ],
             [
              0.1111111111111111,
              "#46039f"
             ],
             [
              0.2222222222222222,
              "#7201a8"
             ],
             [
              0.3333333333333333,
              "#9c179e"
             ],
             [
              0.4444444444444444,
              "#bd3786"
             ],
             [
              0.5555555555555556,
              "#d8576b"
             ],
             [
              0.6666666666666666,
              "#ed7953"
             ],
             [
              0.7777777777777778,
              "#fb9f3a"
             ],
             [
              0.8888888888888888,
              "#fdca26"
             ],
             [
              1,
              "#f0f921"
             ]
            ],
            "type": "histogram2dcontour"
           }
          ],
          "mesh3d": [
           {
            "colorbar": {
             "outlinewidth": 0,
             "ticks": ""
            },
            "type": "mesh3d"
           }
          ],
          "parcoords": [
           {
            "line": {
             "colorbar": {
              "outlinewidth": 0,
              "ticks": ""
             }
            },
            "type": "parcoords"
           }
          ],
          "pie": [
           {
            "automargin": true,
            "type": "pie"
           }
          ],
          "scatter": [
           {
            "fillpattern": {
             "fillmode": "overlay",
             "size": 10,
             "solidity": 0.2
            },
            "type": "scatter"
           }
          ],
          "scatter3d": [
           {
            "line": {
             "colorbar": {
              "outlinewidth": 0,
              "ticks": ""
             }
            },
            "marker": {
             "colorbar": {
              "outlinewidth": 0,
              "ticks": ""
             }
            },
            "type": "scatter3d"
           }
          ],
          "scattercarpet": [
           {
            "marker": {
             "colorbar": {
              "outlinewidth": 0,
              "ticks": ""
             }
            },
            "type": "scattercarpet"
           }
          ],
          "scattergeo": [
           {
            "marker": {
             "colorbar": {
              "outlinewidth": 0,
              "ticks": ""
             }
            },
            "type": "scattergeo"
           }
          ],
          "scattergl": [
           {
            "marker": {
             "colorbar": {
              "outlinewidth": 0,
              "ticks": ""
             }
            },
            "type": "scattergl"
           }
          ],
          "scattermapbox": [
           {
            "marker": {
             "colorbar": {
              "outlinewidth": 0,
              "ticks": ""
             }
            },
            "type": "scattermapbox"
           }
          ],
          "scatterpolar": [
           {
            "marker": {
             "colorbar": {
              "outlinewidth": 0,
              "ticks": ""
             }
            },
            "type": "scatterpolar"
           }
          ],
          "scatterpolargl": [
           {
            "marker": {
             "colorbar": {
              "outlinewidth": 0,
              "ticks": ""
             }
            },
            "type": "scatterpolargl"
           }
          ],
          "scatterternary": [
           {
            "marker": {
             "colorbar": {
              "outlinewidth": 0,
              "ticks": ""
             }
            },
            "type": "scatterternary"
           }
          ],
          "surface": [
           {
            "colorbar": {
             "outlinewidth": 0,
             "ticks": ""
            },
            "colorscale": [
             [
              0,
              "#0d0887"
             ],
             [
              0.1111111111111111,
              "#46039f"
             ],
             [
              0.2222222222222222,
              "#7201a8"
             ],
             [
              0.3333333333333333,
              "#9c179e"
             ],
             [
              0.4444444444444444,
              "#bd3786"
             ],
             [
              0.5555555555555556,
              "#d8576b"
             ],
             [
              0.6666666666666666,
              "#ed7953"
             ],
             [
              0.7777777777777778,
              "#fb9f3a"
             ],
             [
              0.8888888888888888,
              "#fdca26"
             ],
             [
              1,
              "#f0f921"
             ]
            ],
            "type": "surface"
           }
          ],
          "table": [
           {
            "cells": {
             "fill": {
              "color": "#EBF0F8"
             },
             "line": {
              "color": "white"
             }
            },
            "header": {
             "fill": {
              "color": "#C8D4E3"
             },
             "line": {
              "color": "white"
             }
            },
            "type": "table"
           }
          ]
         },
         "layout": {
          "annotationdefaults": {
           "arrowcolor": "#2a3f5f",
           "arrowhead": 0,
           "arrowwidth": 1
          },
          "autotypenumbers": "strict",
          "coloraxis": {
           "colorbar": {
            "outlinewidth": 0,
            "ticks": ""
           }
          },
          "colorscale": {
           "diverging": [
            [
             0,
             "#8e0152"
            ],
            [
             0.1,
             "#c51b7d"
            ],
            [
             0.2,
             "#de77ae"
            ],
            [
             0.3,
             "#f1b6da"
            ],
            [
             0.4,
             "#fde0ef"
            ],
            [
             0.5,
             "#f7f7f7"
            ],
            [
             0.6,
             "#e6f5d0"
            ],
            [
             0.7,
             "#b8e186"
            ],
            [
             0.8,
             "#7fbc41"
            ],
            [
             0.9,
             "#4d9221"
            ],
            [
             1,
             "#276419"
            ]
           ],
           "sequential": [
            [
             0,
             "#0d0887"
            ],
            [
             0.1111111111111111,
             "#46039f"
            ],
            [
             0.2222222222222222,
             "#7201a8"
            ],
            [
             0.3333333333333333,
             "#9c179e"
            ],
            [
             0.4444444444444444,
             "#bd3786"
            ],
            [
             0.5555555555555556,
             "#d8576b"
            ],
            [
             0.6666666666666666,
             "#ed7953"
            ],
            [
             0.7777777777777778,
             "#fb9f3a"
            ],
            [
             0.8888888888888888,
             "#fdca26"
            ],
            [
             1,
             "#f0f921"
            ]
           ],
           "sequentialminus": [
            [
             0,
             "#0d0887"
            ],
            [
             0.1111111111111111,
             "#46039f"
            ],
            [
             0.2222222222222222,
             "#7201a8"
            ],
            [
             0.3333333333333333,
             "#9c179e"
            ],
            [
             0.4444444444444444,
             "#bd3786"
            ],
            [
             0.5555555555555556,
             "#d8576b"
            ],
            [
             0.6666666666666666,
             "#ed7953"
            ],
            [
             0.7777777777777778,
             "#fb9f3a"
            ],
            [
             0.8888888888888888,
             "#fdca26"
            ],
            [
             1,
             "#f0f921"
            ]
           ]
          },
          "colorway": [
           "#636efa",
           "#EF553B",
           "#00cc96",
           "#ab63fa",
           "#FFA15A",
           "#19d3f3",
           "#FF6692",
           "#B6E880",
           "#FF97FF",
           "#FECB52"
          ],
          "font": {
           "color": "#2a3f5f"
          },
          "geo": {
           "bgcolor": "white",
           "lakecolor": "white",
           "landcolor": "#E5ECF6",
           "showlakes": true,
           "showland": true,
           "subunitcolor": "white"
          },
          "hoverlabel": {
           "align": "left"
          },
          "hovermode": "closest",
          "mapbox": {
           "style": "light"
          },
          "paper_bgcolor": "white",
          "plot_bgcolor": "#E5ECF6",
          "polar": {
           "angularaxis": {
            "gridcolor": "white",
            "linecolor": "white",
            "ticks": ""
           },
           "bgcolor": "#E5ECF6",
           "radialaxis": {
            "gridcolor": "white",
            "linecolor": "white",
            "ticks": ""
           }
          },
          "scene": {
           "xaxis": {
            "backgroundcolor": "#E5ECF6",
            "gridcolor": "white",
            "gridwidth": 2,
            "linecolor": "white",
            "showbackground": true,
            "ticks": "",
            "zerolinecolor": "white"
           },
           "yaxis": {
            "backgroundcolor": "#E5ECF6",
            "gridcolor": "white",
            "gridwidth": 2,
            "linecolor": "white",
            "showbackground": true,
            "ticks": "",
            "zerolinecolor": "white"
           },
           "zaxis": {
            "backgroundcolor": "#E5ECF6",
            "gridcolor": "white",
            "gridwidth": 2,
            "linecolor": "white",
            "showbackground": true,
            "ticks": "",
            "zerolinecolor": "white"
           }
          },
          "shapedefaults": {
           "line": {
            "color": "#2a3f5f"
           }
          },
          "ternary": {
           "aaxis": {
            "gridcolor": "white",
            "linecolor": "white",
            "ticks": ""
           },
           "baxis": {
            "gridcolor": "white",
            "linecolor": "white",
            "ticks": ""
           },
           "bgcolor": "#E5ECF6",
           "caxis": {
            "gridcolor": "white",
            "linecolor": "white",
            "ticks": ""
           }
          },
          "title": {
           "x": 0.05
          },
          "xaxis": {
           "automargin": true,
           "gridcolor": "white",
           "linecolor": "white",
           "ticks": "",
           "title": {
            "standoff": 15
           },
           "zerolinecolor": "white",
           "zerolinewidth": 2
          },
          "yaxis": {
           "automargin": true,
           "gridcolor": "white",
           "linecolor": "white",
           "ticks": "",
           "title": {
            "standoff": 15
           },
           "zerolinecolor": "white",
           "zerolinewidth": 2
          }
         }
        },
        "title": {
         "text": "hist of e, skew= 0.02, pearson kurtosis=2.73"
        },
        "xaxis": {
         "anchor": "y",
         "domain": [
          0,
          1
         ],
         "title": {
          "text": "value"
         }
        },
        "yaxis": {
         "anchor": "x",
         "domain": [
          0,
          1
         ],
         "title": {
          "text": "count"
         }
        }
       }
      }
     },
     "metadata": {},
     "output_type": "display_data"
    }
   ],
   "source": [
    "from scipy.stats import skew, kurtosis\n",
    "import plotly.express as px\n",
    "\n",
    "e_skew, e_kurtosis_pearson = skew(e), kurtosis(e, fisher=False)\n",
    "px.histogram(e, title=f\"hist of e, skew={e_skew: .2f}, pearson kurtosis={e_kurtosis_pearson:.2f}\")"
   ]
  },
  {
   "cell_type": "code",
   "execution_count": 23,
   "metadata": {},
   "outputs": [
    {
     "data": {
      "text/html": [
       "<div>\n",
       "<style scoped>\n",
       "    .dataframe tbody tr th:only-of-type {\n",
       "        vertical-align: middle;\n",
       "    }\n",
       "\n",
       "    .dataframe tbody tr th {\n",
       "        vertical-align: top;\n",
       "    }\n",
       "\n",
       "    .dataframe thead th {\n",
       "        text-align: right;\n",
       "    }\n",
       "</style>\n",
       "<table border=\"1\" class=\"dataframe\">\n",
       "  <thead>\n",
       "    <tr style=\"text-align: right;\">\n",
       "      <th></th>\n",
       "      <th>0</th>\n",
       "      <th>1</th>\n",
       "      <th>2</th>\n",
       "      <th>3</th>\n",
       "    </tr>\n",
       "  </thead>\n",
       "  <tbody>\n",
       "    <tr>\n",
       "      <th>0</th>\n",
       "      <td>Omnibus:</td>\n",
       "      <td>1.506</td>\n",
       "      <td>Durbin-Watson:</td>\n",
       "      <td>2.029</td>\n",
       "    </tr>\n",
       "    <tr>\n",
       "      <th>1</th>\n",
       "      <td>Prob(Omnibus):</td>\n",
       "      <td>0.471</td>\n",
       "      <td>Jarque-Bera (JB):</td>\n",
       "      <td>1.404</td>\n",
       "    </tr>\n",
       "    <tr>\n",
       "      <th>2</th>\n",
       "      <td>Skew:</td>\n",
       "      <td>0.017</td>\n",
       "      <td>Prob(JB):</td>\n",
       "      <td>0.496</td>\n",
       "    </tr>\n",
       "    <tr>\n",
       "      <th>3</th>\n",
       "      <td>Kurtosis:</td>\n",
       "      <td>2.726</td>\n",
       "      <td>Condition No.:</td>\n",
       "      <td>227</td>\n",
       "    </tr>\n",
       "  </tbody>\n",
       "</table>\n",
       "</div>"
      ],
      "text/plain": [
       "                0      1                  2      3\n",
       "0        Omnibus:  1.506     Durbin-Watson:  2.029\n",
       "1  Prob(Omnibus):  0.471  Jarque-Bera (JB):  1.404\n",
       "2           Skew:  0.017          Prob(JB):  0.496\n",
       "3       Kurtosis:  2.726     Condition No.:    227"
      ]
     },
     "execution_count": 23,
     "metadata": {},
     "output_type": "execute_result"
    }
   ],
   "source": [
    "result.summary2().tables[-1]"
   ]
  },
  {
   "cell_type": "markdown",
   "metadata": {},
   "source": [
    "### Multicollinearity\n",
    "\n",
    "#### Condition Number\n",
    "\n",
    "Condition number is calculated as the the ratio of max_singular_value / min_singlar_value.\n",
    "\n",
    "The singular values show the rank of the matrix. If any singular value is close to 0, the matrix is not of full rank.\n",
    "\n",
    "Resources:\n",
    "- [statsmodels.regression.linear_model.OLSResults.condition_number](https://www.statsmodels.org/dev/generated/statsmodels.regression.linear_model.OLSResults.condition_number.html)\n",
    "- [Code block computing the condition number](https://github.com/statsmodels/statsmodels/blob/3dfb6c5ca88fdd585a778709ccb59ad9ed33b419/statsmodels/regression/linear_model.py#L1942-L1964). Note that `self._wexog_singular_values` are the singlar values of the whitened X. And OLS whitenning doesn't transform X."
   ]
  },
  {
   "cell_type": "code",
   "execution_count": 149,
   "metadata": {},
   "outputs": [
    {
     "name": "stdout",
     "output_type": "stream",
     "text": [
      "sorted singular values: [21.02379604  2.00604356  1.22160537  1.09816495  0.97748473  0.81374529\n",
      "  0.77634855  0.73250642  0.65854539  0.27985715  0.09252421]\n",
      "condition_no: 227.22480485484772\n"
     ]
    }
   ],
   "source": [
    "u, s, v = np.linalg.svd(X)\n",
    "ss = np.sort(s)[::-1]\n",
    "condition_no = ss[0] / ss[-1]\n",
    "\n",
    "print(f\"sorted singular values: {ss}\")\n",
    "print(f\"condition_no: {condition_no}\")\n",
    "assert_almost_equal(condition_no, result.condition_number, decimal=10)"
   ]
  },
  {
   "cell_type": "markdown",
   "metadata": {},
   "source": [
    "#### VIF\n",
    "\n",
    "To further identify which columns are linearly dependent, we can compute the variance inflation factor.\n",
    "\n",
    "Assume the full model uses all p features of X, $\\text{VIF}_i = \\frac{1}{1-R^2_i}$, where $R_i$ is the coefficient of determination of the model explaining feature `i` using all other features. A high VIF (>5) means that the column is not linearly independent."
   ]
  },
  {
   "cell_type": "code",
   "execution_count": 164,
   "metadata": {},
   "outputs": [
    {
     "name": "stdout",
     "output_type": "stream",
     "text": [
      "0.9999999999999998\n",
      "1.2173065138070078\n",
      "1.2780710154103618\n",
      "1.5094373738445481\n",
      "1.459427777683831\n",
      "59.202510134318615\n",
      "39.1933699727707\n",
      "15.40215600751348\n",
      "8.890986360329634\n",
      "10.075967132038336\n",
      "1.4846226073834823\n"
     ]
    }
   ],
   "source": [
    "from statsmodels.stats.outliers_influence import variance_inflation_factor\n",
    "\n",
    "for i in range(X.shape[1]):\n",
    "    print(variance_inflation_factor(X, i))"
   ]
  },
  {
   "cell_type": "markdown",
   "metadata": {},
   "source": [
    "# Resources\n",
    "\n",
    "1. [Equations in jupyter notebooks](https://jupyter-notebook.readthedocs.io/en/latest/examples/Notebook/Typesetting%20Equations.html#Motivating-Examples)\n",
    "1. [Interpreting linear regression summary from statsmodels](https://www.adrian.idv.hk/2021-07-16-statsmodels/)"
   ]
  }
 ],
 "metadata": {
  "kernelspec": {
   "display_name": ".venv",
   "language": "python",
   "name": "python3"
  },
  "language_info": {
   "codemirror_mode": {
    "name": "ipython",
    "version": 3
   },
   "file_extension": ".py",
   "mimetype": "text/x-python",
   "name": "python",
   "nbconvert_exporter": "python",
   "pygments_lexer": "ipython3",
   "version": "3.10.1"
  }
 },
 "nbformat": 4,
 "nbformat_minor": 2
}
