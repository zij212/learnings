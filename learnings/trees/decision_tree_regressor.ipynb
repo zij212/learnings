{
 "cells": [
  {
   "cell_type": "markdown",
   "metadata": {},
   "source": [
    "# Regression Tree\n",
    "\n",
    "1. [Regression Tree](#regression-tree)\n",
    "    - [intuition](#intuition)\n",
    "    - [recursion](#recursion)\n",
    "    - [stopping criterion](#stopping-criterion)\n",
    "    - [finding the best split](#finding-the-best-split)\n",
    "    - [implement decision tree regressor from scratch](#implement-decision-tree-regressor-from-scratch)\n",
    "1. [Resources](#resources)"
   ]
  },
  {
   "cell_type": "markdown",
   "metadata": {},
   "source": [
    "## Regression Tree\n",
    "\n",
    "### Intuition \n",
    "\n",
    "At each node of the tree, find the best split (a feature and a threshold) in terms of variance reduction, and grow the children accordingly in the same way. If there's no such split or other stopping criterion is met, we use the mean target in this node as the prediction.\n",
    "\n",
    "\n",
    "### Recursion\n",
    "\n",
    "The easiest way to implement the decision tree is by recursion.\n",
    "\n",
    "At every node, starting from the root,\n",
    "- return this Node(val=mean_y) if stopping criterion is met\n",
    "- greedily search for the best splits in terms of variance reduction among candidate splits\n",
    "  - if such split doesn't exsits, return this Node(val=mean_y)\n",
    "  - if so, grow 2 child nodes\n",
    "- return this Node(left_child, right_child, feature, threshold)\n",
    "\n",
    "### Stopping Criterion\n",
    "\n",
    "Common stopping criterions are\n",
    "- maximum depth\n",
    "- minimum number of samples in a leaf node\n",
    "- minimum information gain\n",
    "\n",
    "### Finding the Best Split\n",
    "\n",
    "At every node, we sample a subset of features $F$, greedily find the best feature $f$, threshold $t$ that maximizes the information gain.\n",
    "\n",
    "Information gain (IG) is defined as \n",
    "\n",
    "\\begin{align}\n",
    "H - \\frac{n_l}{n}H_l - \\frac{n_r}{n}H_p \n",
    "\\end{align}\n",
    "\n",
    "- $H$ is the homegeneity measure of the current node, for regression tree, it is the variance.\n",
    "- $n$ is the number of observations in this node\n",
    "- $n_l$ is the number of observations in the left child of the proposed split\n",
    "- $n_r$ is the number of observations in the right child of the proposed split\n",
    "- $H_l$ is the homegeneity of the left child of the propsed split\n",
    "- $H_r$ is the homegeneity of the left child of the propsed split\n",
    "\n",
    "### Implement Decision Tree Regressor from Scratch"
   ]
  },
  {
   "cell_type": "code",
   "execution_count": 1,
   "metadata": {},
   "outputs": [],
   "source": [
    "from dataclasses import dataclass\n",
    "\n",
    "import numpy as np\n",
    "\n",
    "\n",
    "@dataclass\n",
    "class Node:\n",
    "    # attributes for non-leaf node\n",
    "    left_child: \"Node\" = None\n",
    "    right_child: \"Node\" = None\n",
    "    feature: int = None\n",
    "    threshold: float = None\n",
    "\n",
    "    # attribute for leaf node\n",
    "    value: float = None\n",
    "\n",
    "    def is_leaf(self):\n",
    "        return self.value is not None\n",
    "    \n",
    "    \n",
    "def quality(x: np.ndarray) -> float:\n",
    "    return np.var(x)\n",
    "\n",
    "\n",
    "class DTRegressor:\n",
    "    def __init__(self, max_depth=3, min_samples_split=2, min_samples_leaf=1, max_features=3, min_information_gain=0):\n",
    "        self.max_depth = max_depth\n",
    "        self.min_samples_split = min_samples_split\n",
    "        self.min_samples_leaf = min_samples_leaf\n",
    "        self.max_features = max_features\n",
    "        self.min_information_gain = min_information_gain\n",
    "    \n",
    "    def predict(self, X: np.ndarray) -> np.ndarray:\n",
    "        return np.array([self._predict_row(row_x, self.root) for row_x in X])\n",
    "    \n",
    "    def _predict_row(self, x: np.ndarray, node: Node) -> float:\n",
    "        if node.is_leaf():\n",
    "            return node.value\n",
    "        elif x[node.feature] < node.threshold:\n",
    "            return self._predict_row(x, node.left_child)\n",
    "        else:\n",
    "            return self._predict_row(x, node.right_child)\n",
    "    \n",
    "    def fit(self, X: np.ndarray, y: np.ndarray) -> None:\n",
    "        self.root = self._grow_tree(X, y)\n",
    "    \n",
    "    def _split(self, X, y, feature, threshold, return_X=False) -> tuple:\n",
    "        left_mask = X[:, feature] < threshold\n",
    "        right_mask = X[:, feature] >= threshold\n",
    "\n",
    "        if return_X:\n",
    "            return X[left_mask], X[right_mask], y[left_mask], y[right_mask]\n",
    "        else:\n",
    "            return y[left_mask], y[right_mask]\n",
    "    \n",
    "    def _get_best_split(self, X: np.ndarray, y: np.ndarray):\n",
    "\n",
    "        best_ig = - np.inf\n",
    "        best_feature = None\n",
    "        best_threshold = None\n",
    "\n",
    "        q_parent = quality(y)\n",
    "        m, n = X.shape\n",
    "\n",
    "        for feature in np.random.choice(n, self.max_features, replace=False):\n",
    "            # sorted unique thresholds\n",
    "            thresholds = np.unique(X[:, feature])[1:]\n",
    "            for threshold in thresholds:\n",
    "                y_left, y_right = self._split(X, y, feature, threshold)\n",
    "                q_left = quality(y_left)\n",
    "                q_right = quality(y_right)\n",
    "\n",
    "                ig = q_parent - len(y_left) / m * q_left - len(y_right) / m * q_right\n",
    "\n",
    "                if ig > best_ig:\n",
    "                    best_ig = ig\n",
    "                    best_feature = feature\n",
    "                    best_threshold = threshold\n",
    "        \n",
    "        if best_ig <= self.min_information_gain:\n",
    "            return None, None\n",
    "        \n",
    "        return best_feature, best_threshold\n",
    "\n",
    "    \n",
    "    def _grow_tree(self, X: np.ndarray, y: np.ndarray, depth: int=1) -> Node:\n",
    "        # check if stopping criterion is met\n",
    "        if depth > self.max_depth or len(np.unique(y)) == 1 or len(y) < self.min_samples_split:\n",
    "            return Node(value=np.mean(y))\n",
    "        \n",
    "        best_feature, best_threshold = self._get_best_split(X, y)\n",
    "\n",
    "        if best_feature is None:\n",
    "            return Node(value=np.mean(y))\n",
    "\n",
    "        X_left, X_right, y_left, y_right = self._split(X, y, best_feature, best_threshold, return_X=True)\n",
    "\n",
    "        # check if the propsed split is legal\n",
    "        if len(y_left) < self.min_samples_leaf or len(y_right) < self.min_samples_leaf:\n",
    "            return Node(value=np.mean(y))\n",
    "\n",
    "        left_node = self._grow_tree(X_left, y_left, depth=depth+1)\n",
    "        right_node = self._grow_tree(X_right, y_right, depth=depth+1)      \n",
    "        return Node(left_child=left_node, right_child=right_node, feature=best_feature, threshold=best_threshold)\n",
    "    \n",
    "    def _print_node(self, node, indent):\n",
    "        if node.is_leaf():\n",
    "            print(f\"{' ' * indent}value: {node.value:.2f}\")\n",
    "        if not node.is_leaf():\n",
    "            print(f\"{' ' * indent}{node.feature}: {node.threshold}\")\n",
    "            self._print_node(node.left_child, indent+1)\n",
    "            self._print_node(node.right_child, indent+1)\n",
    "\n",
    "    def print_tree(self):\n",
    "        self._print_node(self.root, 0)"
   ]
  },
  {
   "cell_type": "code",
   "execution_count": 2,
   "metadata": {},
   "outputs": [
    {
     "name": "stdout",
     "output_type": "stream",
     "text": [
      "dict_keys(['data', 'target', 'frame', 'DESCR', 'feature_names', 'data_filename', 'target_filename', 'data_module'])\n",
      "(442, 10)\n"
     ]
    }
   ],
   "source": [
    "from sklearn.datasets import load_diabetes\n",
    "\n",
    "\n",
    "data = load_diabetes()\n",
    "print(data.keys())\n",
    "X = data.data\n",
    "y = data.target\n",
    "print(X.shape)"
   ]
  },
  {
   "cell_type": "code",
   "execution_count": 3,
   "metadata": {},
   "outputs": [],
   "source": [
    "from sklearn.model_selection import train_test_split\n",
    "\n",
    "X_train, X_test, y_train, y_test = train_test_split(X, y, test_size=0.2, random_state=42)"
   ]
  },
  {
   "cell_type": "code",
   "execution_count": 4,
   "metadata": {},
   "outputs": [
    {
     "data": {
      "text/html": [
       "<div>\n",
       "<style scoped>\n",
       "    .dataframe tbody tr th:only-of-type {\n",
       "        vertical-align: middle;\n",
       "    }\n",
       "\n",
       "    .dataframe tbody tr th {\n",
       "        vertical-align: top;\n",
       "    }\n",
       "\n",
       "    .dataframe thead th {\n",
       "        text-align: right;\n",
       "    }\n",
       "</style>\n",
       "<table border=\"1\" class=\"dataframe\">\n",
       "  <thead>\n",
       "    <tr style=\"text-align: right;\">\n",
       "      <th></th>\n",
       "      <th>age</th>\n",
       "      <th>sex</th>\n",
       "      <th>bmi</th>\n",
       "      <th>bp</th>\n",
       "      <th>s1</th>\n",
       "      <th>s2</th>\n",
       "      <th>s3</th>\n",
       "      <th>s4</th>\n",
       "      <th>s5</th>\n",
       "      <th>s6</th>\n",
       "      <th>y</th>\n",
       "    </tr>\n",
       "  </thead>\n",
       "  <tbody>\n",
       "    <tr>\n",
       "      <th>0</th>\n",
       "      <td>0.070769</td>\n",
       "      <td>0.050680</td>\n",
       "      <td>0.012117</td>\n",
       "      <td>0.056301</td>\n",
       "      <td>0.034206</td>\n",
       "      <td>0.049416</td>\n",
       "      <td>-0.039719</td>\n",
       "      <td>0.034309</td>\n",
       "      <td>0.027364</td>\n",
       "      <td>-0.001078</td>\n",
       "      <td>144.0</td>\n",
       "    </tr>\n",
       "    <tr>\n",
       "      <th>1</th>\n",
       "      <td>-0.009147</td>\n",
       "      <td>0.050680</td>\n",
       "      <td>-0.018062</td>\n",
       "      <td>-0.033213</td>\n",
       "      <td>-0.020832</td>\n",
       "      <td>0.012152</td>\n",
       "      <td>-0.072854</td>\n",
       "      <td>0.071210</td>\n",
       "      <td>0.000272</td>\n",
       "      <td>0.019633</td>\n",
       "      <td>150.0</td>\n",
       "    </tr>\n",
       "    <tr>\n",
       "      <th>2</th>\n",
       "      <td>0.005383</td>\n",
       "      <td>-0.044642</td>\n",
       "      <td>0.049840</td>\n",
       "      <td>0.097615</td>\n",
       "      <td>-0.015328</td>\n",
       "      <td>-0.016345</td>\n",
       "      <td>-0.006584</td>\n",
       "      <td>-0.002592</td>\n",
       "      <td>0.017036</td>\n",
       "      <td>-0.013504</td>\n",
       "      <td>280.0</td>\n",
       "    </tr>\n",
       "    <tr>\n",
       "      <th>3</th>\n",
       "      <td>-0.027310</td>\n",
       "      <td>-0.044642</td>\n",
       "      <td>-0.035307</td>\n",
       "      <td>-0.029770</td>\n",
       "      <td>-0.056607</td>\n",
       "      <td>-0.058620</td>\n",
       "      <td>0.030232</td>\n",
       "      <td>-0.039493</td>\n",
       "      <td>-0.049872</td>\n",
       "      <td>-0.129483</td>\n",
       "      <td>125.0</td>\n",
       "    </tr>\n",
       "    <tr>\n",
       "      <th>4</th>\n",
       "      <td>-0.023677</td>\n",
       "      <td>-0.044642</td>\n",
       "      <td>-0.065486</td>\n",
       "      <td>-0.081413</td>\n",
       "      <td>-0.038720</td>\n",
       "      <td>-0.053610</td>\n",
       "      <td>0.059685</td>\n",
       "      <td>-0.076395</td>\n",
       "      <td>-0.037129</td>\n",
       "      <td>-0.042499</td>\n",
       "      <td>59.0</td>\n",
       "    </tr>\n",
       "  </tbody>\n",
       "</table>\n",
       "</div>"
      ],
      "text/plain": [
       "        age       sex       bmi        bp        s1        s2        s3  \\\n",
       "0  0.070769  0.050680  0.012117  0.056301  0.034206  0.049416 -0.039719   \n",
       "1 -0.009147  0.050680 -0.018062 -0.033213 -0.020832  0.012152 -0.072854   \n",
       "2  0.005383 -0.044642  0.049840  0.097615 -0.015328 -0.016345 -0.006584   \n",
       "3 -0.027310 -0.044642 -0.035307 -0.029770 -0.056607 -0.058620  0.030232   \n",
       "4 -0.023677 -0.044642 -0.065486 -0.081413 -0.038720 -0.053610  0.059685   \n",
       "\n",
       "         s4        s5        s6      y  \n",
       "0  0.034309  0.027364 -0.001078  144.0  \n",
       "1  0.071210  0.000272  0.019633  150.0  \n",
       "2 -0.002592  0.017036 -0.013504  280.0  \n",
       "3 -0.039493 -0.049872 -0.129483  125.0  \n",
       "4 -0.076395 -0.037129 -0.042499   59.0  "
      ]
     },
     "execution_count": 4,
     "metadata": {},
     "output_type": "execute_result"
    }
   ],
   "source": [
    "import pandas as pd\n",
    "\n",
    "df_train = pd.DataFrame(np.hstack([X_train, y_train[:, np.newaxis]]), columns=data.feature_names+[\"y\"])\n",
    "df_train.head()"
   ]
  },
  {
   "cell_type": "code",
   "execution_count": 5,
   "metadata": {},
   "outputs": [
    {
     "name": "stdout",
     "output_type": "stream",
     "text": [
      "2: 0.005649978676881689\n",
      " 8: 0.007027139682585861\n",
      "  value: 100.56\n",
      "  value: 164.67\n",
      " value: 205.54\n"
     ]
    }
   ],
   "source": [
    "dtr = DTRegressor(max_depth=2, max_features=10, min_samples_leaf=30)\n",
    "dtr.fit(X_train, y_train)\n",
    "dtr.print_tree()\n",
    "y_pred = dtr.predict(X_test)"
   ]
  },
  {
   "cell_type": "code",
   "execution_count": 6,
   "metadata": {},
   "outputs": [
    {
     "data": {
      "text/plain": [
       "3804.099594494935"
      ]
     },
     "execution_count": 6,
     "metadata": {},
     "output_type": "execute_result"
    }
   ],
   "source": [
    "from sklearn.metrics import mean_squared_error\n",
    "\n",
    "mean_squared_error(y_test, y_pred)"
   ]
  },
  {
   "cell_type": "code",
   "execution_count": 7,
   "metadata": {},
   "outputs": [
    {
     "data": {
      "application/vnd.plotly.v1+json": {
       "config": {
        "plotlyServerURL": "https://plot.ly"
       },
       "data": [
        {
         "hovertemplate": "y_test=%{x}<br>y_pred=%{y}<extra></extra>",
         "legendgroup": "",
         "marker": {
          "color": "#636efa",
          "symbol": "circle"
         },
         "mode": "markers",
         "name": "",
         "orientation": "v",
         "showlegend": false,
         "type": "scatter",
         "x": [
          219,
          70,
          202,
          230,
          111,
          84,
          242,
          272,
          94,
          96,
          94,
          252,
          99,
          297,
          135,
          67,
          295,
          264,
          170,
          275,
          310,
          64,
          128,
          232,
          129,
          118,
          263,
          77,
          48,
          107,
          140,
          113,
          90,
          164,
          180,
          233,
          42,
          84,
          172,
          63,
          48,
          108,
          156,
          168,
          90,
          52,
          200,
          87,
          90,
          258,
          136,
          158,
          69,
          72,
          171,
          95,
          72,
          151,
          168,
          60,
          122,
          52,
          187,
          102,
          214,
          248,
          181,
          110,
          140,
          202,
          101,
          222,
          281,
          61,
          89,
          91,
          186,
          220,
          237,
          233,
          68,
          190,
          96,
          72,
          153,
          98,
          37,
          63,
          184
         ],
         "xaxis": "x",
         "y": [
          164.66666666666666,
          205.54166666666666,
          164.66666666666666,
          205.54166666666666,
          100.5592105263158,
          100.5592105263158,
          205.54166666666666,
          205.54166666666666,
          164.66666666666666,
          205.54166666666666,
          100.5592105263158,
          164.66666666666666,
          100.5592105263158,
          205.54166666666666,
          100.5592105263158,
          205.54166666666666,
          205.54166666666666,
          205.54166666666666,
          205.54166666666666,
          205.54166666666666,
          205.54166666666666,
          100.5592105263158,
          100.5592105263158,
          205.54166666666666,
          205.54166666666666,
          205.54166666666666,
          205.54166666666666,
          100.5592105263158,
          100.5592105263158,
          100.5592105263158,
          205.54166666666666,
          100.5592105263158,
          205.54166666666666,
          164.66666666666666,
          205.54166666666666,
          205.54166666666666,
          100.5592105263158,
          164.66666666666666,
          164.66666666666666,
          100.5592105263158,
          100.5592105263158,
          100.5592105263158,
          100.5592105263158,
          164.66666666666666,
          164.66666666666666,
          100.5592105263158,
          100.5592105263158,
          100.5592105263158,
          100.5592105263158,
          164.66666666666666,
          205.54166666666666,
          100.5592105263158,
          205.54166666666666,
          100.5592105263158,
          164.66666666666666,
          205.54166666666666,
          100.5592105263158,
          205.54166666666666,
          100.5592105263158,
          100.5592105263158,
          205.54166666666666,
          205.54166666666666,
          205.54166666666666,
          100.5592105263158,
          164.66666666666666,
          205.54166666666666,
          164.66666666666666,
          164.66666666666666,
          100.5592105263158,
          164.66666666666666,
          164.66666666666666,
          205.54166666666666,
          164.66666666666666,
          100.5592105263158,
          100.5592105263158,
          164.66666666666666,
          205.54166666666666,
          205.54166666666666,
          205.54166666666666,
          164.66666666666666,
          100.5592105263158,
          100.5592105263158,
          100.5592105263158,
          100.5592105263158,
          100.5592105263158,
          100.5592105263158,
          100.5592105263158,
          100.5592105263158,
          205.54166666666666
         ],
         "yaxis": "y"
        },
        {
         "type": "scatter",
         "x": [
          0,
          6.122448979591836,
          12.244897959183673,
          18.36734693877551,
          24.489795918367346,
          30.612244897959183,
          36.73469387755102,
          42.857142857142854,
          48.97959183673469,
          55.10204081632653,
          61.224489795918366,
          67.3469387755102,
          73.46938775510203,
          79.59183673469387,
          85.71428571428571,
          91.83673469387755,
          97.95918367346938,
          104.08163265306122,
          110.20408163265306,
          116.3265306122449,
          122.44897959183673,
          128.57142857142856,
          134.6938775510204,
          140.81632653061223,
          146.93877551020407,
          153.0612244897959,
          159.18367346938774,
          165.30612244897958,
          171.42857142857142,
          177.55102040816325,
          183.6734693877551,
          189.79591836734693,
          195.91836734693877,
          202.0408163265306,
          208.16326530612244,
          214.28571428571428,
          220.40816326530611,
          226.53061224489795,
          232.6530612244898,
          238.77551020408163,
          244.89795918367346,
          251.0204081632653,
          257.1428571428571,
          263.265306122449,
          269.3877551020408,
          275.51020408163265,
          281.63265306122446,
          287.7551020408163,
          293.87755102040813,
          300
         ],
         "y": [
          0,
          6.122448979591836,
          12.244897959183673,
          18.36734693877551,
          24.489795918367346,
          30.612244897959183,
          36.73469387755102,
          42.857142857142854,
          48.97959183673469,
          55.10204081632653,
          61.224489795918366,
          67.3469387755102,
          73.46938775510203,
          79.59183673469387,
          85.71428571428571,
          91.83673469387755,
          97.95918367346938,
          104.08163265306122,
          110.20408163265306,
          116.3265306122449,
          122.44897959183673,
          128.57142857142856,
          134.6938775510204,
          140.81632653061223,
          146.93877551020407,
          153.0612244897959,
          159.18367346938774,
          165.30612244897958,
          171.42857142857142,
          177.55102040816325,
          183.6734693877551,
          189.79591836734693,
          195.91836734693877,
          202.0408163265306,
          208.16326530612244,
          214.28571428571428,
          220.40816326530611,
          226.53061224489795,
          232.6530612244898,
          238.77551020408163,
          244.89795918367346,
          251.0204081632653,
          257.1428571428571,
          263.265306122449,
          269.3877551020408,
          275.51020408163265,
          281.63265306122446,
          287.7551020408163,
          293.87755102040813,
          300
         ]
        }
       ],
       "layout": {
        "legend": {
         "tracegroupgap": 0
        },
        "margin": {
         "t": 60
        },
        "template": {
         "data": {
          "bar": [
           {
            "error_x": {
             "color": "#2a3f5f"
            },
            "error_y": {
             "color": "#2a3f5f"
            },
            "marker": {
             "line": {
              "color": "#E5ECF6",
              "width": 0.5
             },
             "pattern": {
              "fillmode": "overlay",
              "size": 10,
              "solidity": 0.2
             }
            },
            "type": "bar"
           }
          ],
          "barpolar": [
           {
            "marker": {
             "line": {
              "color": "#E5ECF6",
              "width": 0.5
             },
             "pattern": {
              "fillmode": "overlay",
              "size": 10,
              "solidity": 0.2
             }
            },
            "type": "barpolar"
           }
          ],
          "carpet": [
           {
            "aaxis": {
             "endlinecolor": "#2a3f5f",
             "gridcolor": "white",
             "linecolor": "white",
             "minorgridcolor": "white",
             "startlinecolor": "#2a3f5f"
            },
            "baxis": {
             "endlinecolor": "#2a3f5f",
             "gridcolor": "white",
             "linecolor": "white",
             "minorgridcolor": "white",
             "startlinecolor": "#2a3f5f"
            },
            "type": "carpet"
           }
          ],
          "choropleth": [
           {
            "colorbar": {
             "outlinewidth": 0,
             "ticks": ""
            },
            "type": "choropleth"
           }
          ],
          "contour": [
           {
            "colorbar": {
             "outlinewidth": 0,
             "ticks": ""
            },
            "colorscale": [
             [
              0,
              "#0d0887"
             ],
             [
              0.1111111111111111,
              "#46039f"
             ],
             [
              0.2222222222222222,
              "#7201a8"
             ],
             [
              0.3333333333333333,
              "#9c179e"
             ],
             [
              0.4444444444444444,
              "#bd3786"
             ],
             [
              0.5555555555555556,
              "#d8576b"
             ],
             [
              0.6666666666666666,
              "#ed7953"
             ],
             [
              0.7777777777777778,
              "#fb9f3a"
             ],
             [
              0.8888888888888888,
              "#fdca26"
             ],
             [
              1,
              "#f0f921"
             ]
            ],
            "type": "contour"
           }
          ],
          "contourcarpet": [
           {
            "colorbar": {
             "outlinewidth": 0,
             "ticks": ""
            },
            "type": "contourcarpet"
           }
          ],
          "heatmap": [
           {
            "colorbar": {
             "outlinewidth": 0,
             "ticks": ""
            },
            "colorscale": [
             [
              0,
              "#0d0887"
             ],
             [
              0.1111111111111111,
              "#46039f"
             ],
             [
              0.2222222222222222,
              "#7201a8"
             ],
             [
              0.3333333333333333,
              "#9c179e"
             ],
             [
              0.4444444444444444,
              "#bd3786"
             ],
             [
              0.5555555555555556,
              "#d8576b"
             ],
             [
              0.6666666666666666,
              "#ed7953"
             ],
             [
              0.7777777777777778,
              "#fb9f3a"
             ],
             [
              0.8888888888888888,
              "#fdca26"
             ],
             [
              1,
              "#f0f921"
             ]
            ],
            "type": "heatmap"
           }
          ],
          "heatmapgl": [
           {
            "colorbar": {
             "outlinewidth": 0,
             "ticks": ""
            },
            "colorscale": [
             [
              0,
              "#0d0887"
             ],
             [
              0.1111111111111111,
              "#46039f"
             ],
             [
              0.2222222222222222,
              "#7201a8"
             ],
             [
              0.3333333333333333,
              "#9c179e"
             ],
             [
              0.4444444444444444,
              "#bd3786"
             ],
             [
              0.5555555555555556,
              "#d8576b"
             ],
             [
              0.6666666666666666,
              "#ed7953"
             ],
             [
              0.7777777777777778,
              "#fb9f3a"
             ],
             [
              0.8888888888888888,
              "#fdca26"
             ],
             [
              1,
              "#f0f921"
             ]
            ],
            "type": "heatmapgl"
           }
          ],
          "histogram": [
           {
            "marker": {
             "pattern": {
              "fillmode": "overlay",
              "size": 10,
              "solidity": 0.2
             }
            },
            "type": "histogram"
           }
          ],
          "histogram2d": [
           {
            "colorbar": {
             "outlinewidth": 0,
             "ticks": ""
            },
            "colorscale": [
             [
              0,
              "#0d0887"
             ],
             [
              0.1111111111111111,
              "#46039f"
             ],
             [
              0.2222222222222222,
              "#7201a8"
             ],
             [
              0.3333333333333333,
              "#9c179e"
             ],
             [
              0.4444444444444444,
              "#bd3786"
             ],
             [
              0.5555555555555556,
              "#d8576b"
             ],
             [
              0.6666666666666666,
              "#ed7953"
             ],
             [
              0.7777777777777778,
              "#fb9f3a"
             ],
             [
              0.8888888888888888,
              "#fdca26"
             ],
             [
              1,
              "#f0f921"
             ]
            ],
            "type": "histogram2d"
           }
          ],
          "histogram2dcontour": [
           {
            "colorbar": {
             "outlinewidth": 0,
             "ticks": ""
            },
            "colorscale": [
             [
              0,
              "#0d0887"
             ],
             [
              0.1111111111111111,
              "#46039f"
             ],
             [
              0.2222222222222222,
              "#7201a8"
             ],
             [
              0.3333333333333333,
              "#9c179e"
             ],
             [
              0.4444444444444444,
              "#bd3786"
             ],
             [
              0.5555555555555556,
              "#d8576b"
             ],
             [
              0.6666666666666666,
              "#ed7953"
             ],
             [
              0.7777777777777778,
              "#fb9f3a"
             ],
             [
              0.8888888888888888,
              "#fdca26"
             ],
             [
              1,
              "#f0f921"
             ]
            ],
            "type": "histogram2dcontour"
           }
          ],
          "mesh3d": [
           {
            "colorbar": {
             "outlinewidth": 0,
             "ticks": ""
            },
            "type": "mesh3d"
           }
          ],
          "parcoords": [
           {
            "line": {
             "colorbar": {
              "outlinewidth": 0,
              "ticks": ""
             }
            },
            "type": "parcoords"
           }
          ],
          "pie": [
           {
            "automargin": true,
            "type": "pie"
           }
          ],
          "scatter": [
           {
            "fillpattern": {
             "fillmode": "overlay",
             "size": 10,
             "solidity": 0.2
            },
            "type": "scatter"
           }
          ],
          "scatter3d": [
           {
            "line": {
             "colorbar": {
              "outlinewidth": 0,
              "ticks": ""
             }
            },
            "marker": {
             "colorbar": {
              "outlinewidth": 0,
              "ticks": ""
             }
            },
            "type": "scatter3d"
           }
          ],
          "scattercarpet": [
           {
            "marker": {
             "colorbar": {
              "outlinewidth": 0,
              "ticks": ""
             }
            },
            "type": "scattercarpet"
           }
          ],
          "scattergeo": [
           {
            "marker": {
             "colorbar": {
              "outlinewidth": 0,
              "ticks": ""
             }
            },
            "type": "scattergeo"
           }
          ],
          "scattergl": [
           {
            "marker": {
             "colorbar": {
              "outlinewidth": 0,
              "ticks": ""
             }
            },
            "type": "scattergl"
           }
          ],
          "scattermapbox": [
           {
            "marker": {
             "colorbar": {
              "outlinewidth": 0,
              "ticks": ""
             }
            },
            "type": "scattermapbox"
           }
          ],
          "scatterpolar": [
           {
            "marker": {
             "colorbar": {
              "outlinewidth": 0,
              "ticks": ""
             }
            },
            "type": "scatterpolar"
           }
          ],
          "scatterpolargl": [
           {
            "marker": {
             "colorbar": {
              "outlinewidth": 0,
              "ticks": ""
             }
            },
            "type": "scatterpolargl"
           }
          ],
          "scatterternary": [
           {
            "marker": {
             "colorbar": {
              "outlinewidth": 0,
              "ticks": ""
             }
            },
            "type": "scatterternary"
           }
          ],
          "surface": [
           {
            "colorbar": {
             "outlinewidth": 0,
             "ticks": ""
            },
            "colorscale": [
             [
              0,
              "#0d0887"
             ],
             [
              0.1111111111111111,
              "#46039f"
             ],
             [
              0.2222222222222222,
              "#7201a8"
             ],
             [
              0.3333333333333333,
              "#9c179e"
             ],
             [
              0.4444444444444444,
              "#bd3786"
             ],
             [
              0.5555555555555556,
              "#d8576b"
             ],
             [
              0.6666666666666666,
              "#ed7953"
             ],
             [
              0.7777777777777778,
              "#fb9f3a"
             ],
             [
              0.8888888888888888,
              "#fdca26"
             ],
             [
              1,
              "#f0f921"
             ]
            ],
            "type": "surface"
           }
          ],
          "table": [
           {
            "cells": {
             "fill": {
              "color": "#EBF0F8"
             },
             "line": {
              "color": "white"
             }
            },
            "header": {
             "fill": {
              "color": "#C8D4E3"
             },
             "line": {
              "color": "white"
             }
            },
            "type": "table"
           }
          ]
         },
         "layout": {
          "annotationdefaults": {
           "arrowcolor": "#2a3f5f",
           "arrowhead": 0,
           "arrowwidth": 1
          },
          "autotypenumbers": "strict",
          "coloraxis": {
           "colorbar": {
            "outlinewidth": 0,
            "ticks": ""
           }
          },
          "colorscale": {
           "diverging": [
            [
             0,
             "#8e0152"
            ],
            [
             0.1,
             "#c51b7d"
            ],
            [
             0.2,
             "#de77ae"
            ],
            [
             0.3,
             "#f1b6da"
            ],
            [
             0.4,
             "#fde0ef"
            ],
            [
             0.5,
             "#f7f7f7"
            ],
            [
             0.6,
             "#e6f5d0"
            ],
            [
             0.7,
             "#b8e186"
            ],
            [
             0.8,
             "#7fbc41"
            ],
            [
             0.9,
             "#4d9221"
            ],
            [
             1,
             "#276419"
            ]
           ],
           "sequential": [
            [
             0,
             "#0d0887"
            ],
            [
             0.1111111111111111,
             "#46039f"
            ],
            [
             0.2222222222222222,
             "#7201a8"
            ],
            [
             0.3333333333333333,
             "#9c179e"
            ],
            [
             0.4444444444444444,
             "#bd3786"
            ],
            [
             0.5555555555555556,
             "#d8576b"
            ],
            [
             0.6666666666666666,
             "#ed7953"
            ],
            [
             0.7777777777777778,
             "#fb9f3a"
            ],
            [
             0.8888888888888888,
             "#fdca26"
            ],
            [
             1,
             "#f0f921"
            ]
           ],
           "sequentialminus": [
            [
             0,
             "#0d0887"
            ],
            [
             0.1111111111111111,
             "#46039f"
            ],
            [
             0.2222222222222222,
             "#7201a8"
            ],
            [
             0.3333333333333333,
             "#9c179e"
            ],
            [
             0.4444444444444444,
             "#bd3786"
            ],
            [
             0.5555555555555556,
             "#d8576b"
            ],
            [
             0.6666666666666666,
             "#ed7953"
            ],
            [
             0.7777777777777778,
             "#fb9f3a"
            ],
            [
             0.8888888888888888,
             "#fdca26"
            ],
            [
             1,
             "#f0f921"
            ]
           ]
          },
          "colorway": [
           "#636efa",
           "#EF553B",
           "#00cc96",
           "#ab63fa",
           "#FFA15A",
           "#19d3f3",
           "#FF6692",
           "#B6E880",
           "#FF97FF",
           "#FECB52"
          ],
          "font": {
           "color": "#2a3f5f"
          },
          "geo": {
           "bgcolor": "white",
           "lakecolor": "white",
           "landcolor": "#E5ECF6",
           "showlakes": true,
           "showland": true,
           "subunitcolor": "white"
          },
          "hoverlabel": {
           "align": "left"
          },
          "hovermode": "closest",
          "mapbox": {
           "style": "light"
          },
          "paper_bgcolor": "white",
          "plot_bgcolor": "#E5ECF6",
          "polar": {
           "angularaxis": {
            "gridcolor": "white",
            "linecolor": "white",
            "ticks": ""
           },
           "bgcolor": "#E5ECF6",
           "radialaxis": {
            "gridcolor": "white",
            "linecolor": "white",
            "ticks": ""
           }
          },
          "scene": {
           "xaxis": {
            "backgroundcolor": "#E5ECF6",
            "gridcolor": "white",
            "gridwidth": 2,
            "linecolor": "white",
            "showbackground": true,
            "ticks": "",
            "zerolinecolor": "white"
           },
           "yaxis": {
            "backgroundcolor": "#E5ECF6",
            "gridcolor": "white",
            "gridwidth": 2,
            "linecolor": "white",
            "showbackground": true,
            "ticks": "",
            "zerolinecolor": "white"
           },
           "zaxis": {
            "backgroundcolor": "#E5ECF6",
            "gridcolor": "white",
            "gridwidth": 2,
            "linecolor": "white",
            "showbackground": true,
            "ticks": "",
            "zerolinecolor": "white"
           }
          },
          "shapedefaults": {
           "line": {
            "color": "#2a3f5f"
           }
          },
          "ternary": {
           "aaxis": {
            "gridcolor": "white",
            "linecolor": "white",
            "ticks": ""
           },
           "baxis": {
            "gridcolor": "white",
            "linecolor": "white",
            "ticks": ""
           },
           "bgcolor": "#E5ECF6",
           "caxis": {
            "gridcolor": "white",
            "linecolor": "white",
            "ticks": ""
           }
          },
          "title": {
           "x": 0.05
          },
          "xaxis": {
           "automargin": true,
           "gridcolor": "white",
           "linecolor": "white",
           "ticks": "",
           "title": {
            "standoff": 15
           },
           "zerolinecolor": "white",
           "zerolinewidth": 2
          },
          "yaxis": {
           "automargin": true,
           "gridcolor": "white",
           "linecolor": "white",
           "ticks": "",
           "title": {
            "standoff": 15
           },
           "zerolinecolor": "white",
           "zerolinewidth": 2
          }
         }
        },
        "xaxis": {
         "anchor": "y",
         "domain": [
          0,
          1
         ],
         "title": {
          "text": "y_test"
         }
        },
        "yaxis": {
         "anchor": "x",
         "domain": [
          0,
          1
         ],
         "title": {
          "text": "y_pred"
         }
        }
       }
      }
     },
     "metadata": {},
     "output_type": "display_data"
    }
   ],
   "source": [
    "import plotly.express as px\n",
    "\n",
    "\n",
    "df = pd.DataFrame({\"y_test\": y_test, \"y_pred\": y_pred})\n",
    "\n",
    "fig = px.scatter(df, x=\"y_test\", y=\"y_pred\")\n",
    "fig.add_scatter(x=np.linspace(0, 300), y=np.linspace(0, 300))"
   ]
  },
  {
   "cell_type": "markdown",
   "metadata": {},
   "source": [
    "# Resources\n",
    "\n",
    "- [scikit-learn tree mathematical formation](https://scikit-learn.org/stable/modules/tree.html#tree-mathematical-formulation)"
   ]
  }
 ],
 "metadata": {
  "kernelspec": {
   "display_name": ".venv",
   "language": "python",
   "name": "python3"
  },
  "language_info": {
   "codemirror_mode": {
    "name": "ipython",
    "version": 3
   },
   "file_extension": ".py",
   "mimetype": "text/x-python",
   "name": "python",
   "nbconvert_exporter": "python",
   "pygments_lexer": "ipython3",
   "version": "3.10.1"
  }
 },
 "nbformat": 4,
 "nbformat_minor": 2
}
