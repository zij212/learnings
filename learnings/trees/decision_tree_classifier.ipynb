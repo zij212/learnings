{
 "cells": [
  {
   "cell_type": "markdown",
   "metadata": {},
   "source": [
    "# Classification Tree\n",
    "\n",
    "1. [Classification Tree](#classification-tree)\n",
    "    - [gini impurity and entropy](#gini-impurity-and-entropy)\n",
    "    - [implement decision tree classifier from scratch](#implement-decision-tree-classifer-from-scratch)\n",
    "1. [Resources](#resources)"
   ]
  },
  {
   "cell_type": "markdown",
   "metadata": {},
   "source": [
    "## Classification Tree\n",
    "\n",
    "In the decision_tree_regressor notebook we discussed using the information gain to search for the best split.\n",
    "\n",
    "\\begin{align}\n",
    "\\text{information gain}=H - \\frac{n_l}{n}H_l - \\frac{n_r}{n}H_p \n",
    "\\end{align}\n",
    "\n",
    "Recall that for regression tree, we used the variance as the homogeniety measure.\n",
    "\n",
    "For classification tree, common homogeneity measures for classification tree are gini impurity and entropy.\n",
    "\n",
    "### Gini Impurity and Entropy\n",
    "\n",
    "\\begin{align}\n",
    "\\text{gini impurity} & = \\sum_k p_k(1-p_k) = 1 - \\sum_k p_k^2 \\\\\n",
    "\\text{entropy} & = - \\sum_k p_k * \\log p_k\n",
    "\\end{align}\n",
    "\n",
    "Let's think this through using a binary classification example where a node has 100 samples. \n",
    "\n",
    "- If the node is perfectly homogenous (all 100 samples are of the same class). The gini impurity is $0 * 1 - 1 * 0 = 0$. \n",
    "- If the node has 90 0s and 10 1s, the gini impurity is $0.9 * 0.1 + 0.1 * 0.9 = 0.18$\n",
    "- If the node has 50 0s and 50 1s, the gini impurity is $0.5 * 0.5 + 0.5 * 0.5 = 0.50$\n",
    "\n",
    "Using p as the probability of class 0, the gini impurity can be rewritten to\n",
    "\n",
    "\\begin{align}\n",
    "L_{\\text{gini}} & = p(1-p) + (1-p)p = 2(p-p^2) \\\\\n",
    "\\frac{dL}{dp} & = 2(1-2p) = 0 \\\\\n",
    "p & = \\frac{1}{2}\n",
    "\\end{align}\n",
    "\n",
    "Similarly, the entropy (or log loss) is also maximized when the node has a 50/50 split. \n",
    "\n",
    "\\begin{align}\n",
    "L_{\\text{entropy}} & = - p\\log{p} - (1-p)\\log(1-p) \\\\\n",
    "\\frac{dL}{dp} & = - (\\frac{p}{p} + \\log{p}) - (-\\frac{1-p}{1-p} -\\log(1-p)) \\\\\n",
    "\\frac{dL}{dp} & = \\log(1-p) - \\log{p} = 0 \\\\\n",
    "p & = \\frac{1}{2}\n",
    "\\end{align}\n",
    "\n",
    "We can also see it in the plot below."
   ]
  },
  {
   "cell_type": "code",
   "execution_count": 1,
   "metadata": {},
   "outputs": [
    {
     "data": {
      "application/vnd.plotly.v1+json": {
       "config": {
        "plotlyServerURL": "https://plot.ly"
       },
       "data": [
        {
         "hovertemplate": "variable=gini impurity<br>ratio of class 0=%{x}<br>value=%{y}<extra></extra>",
         "legendgroup": "gini impurity",
         "line": {
          "color": "#636efa",
          "dash": "solid"
         },
         "marker": {
          "symbol": "circle"
         },
         "mode": "lines",
         "name": "gini impurity",
         "orientation": "v",
         "showlegend": true,
         "type": "scatter",
         "x": [
          0.01,
          0.02,
          0.03,
          0.04,
          0.05,
          0.060000000000000005,
          0.06999999999999999,
          0.08,
          0.09,
          0.09999999999999999,
          0.11,
          0.12,
          0.13,
          0.14,
          0.15000000000000002,
          0.16,
          0.17,
          0.18000000000000002,
          0.19,
          0.2,
          0.21000000000000002,
          0.22,
          0.23,
          0.24000000000000002,
          0.25,
          0.26,
          0.27,
          0.28,
          0.29000000000000004,
          0.3,
          0.31,
          0.32,
          0.33,
          0.34,
          0.35000000000000003,
          0.36000000000000004,
          0.37,
          0.38,
          0.39,
          0.4,
          0.41000000000000003,
          0.42000000000000004,
          0.43,
          0.44,
          0.45,
          0.46,
          0.47000000000000003,
          0.48000000000000004,
          0.49,
          0.5,
          0.51,
          0.52,
          0.53,
          0.54,
          0.55,
          0.56,
          0.5700000000000001,
          0.5800000000000001,
          0.59,
          0.6,
          0.61,
          0.62,
          0.63,
          0.64,
          0.65,
          0.66,
          0.67,
          0.68,
          0.6900000000000001,
          0.7000000000000001,
          0.7100000000000001,
          0.72,
          0.73,
          0.74,
          0.75,
          0.76,
          0.77,
          0.78,
          0.79,
          0.8,
          0.81,
          0.8200000000000001,
          0.8300000000000001,
          0.8400000000000001,
          0.85,
          0.86,
          0.87,
          0.88,
          0.89,
          0.9,
          0.91,
          0.92,
          0.93,
          0.9400000000000001,
          0.9500000000000001,
          0.9600000000000001,
          0.97,
          0.98,
          0.99
         ],
         "xaxis": "x",
         "y": [
          0.01980000000000004,
          0.039200000000000124,
          0.05820000000000003,
          0.07679999999999998,
          0.09500000000000008,
          0.11280000000000001,
          0.13019999999999987,
          0.1472,
          0.16379999999999995,
          0.17999999999999994,
          0.19579999999999997,
          0.21120000000000005,
          0.22619999999999996,
          0.24080000000000013,
          0.2550000000000001,
          0.26880000000000015,
          0.2822,
          0.29520000000000013,
          0.30779999999999985,
          0.31999999999999984,
          0.3317999999999999,
          0.34319999999999995,
          0.35420000000000007,
          0.3648,
          0.375,
          0.38480000000000003,
          0.3942000000000001,
          0.4032,
          0.41179999999999994,
          0.4200000000000001,
          0.4278000000000001,
          0.43520000000000003,
          0.4422000000000001,
          0.4488000000000001,
          0.45500000000000007,
          0.4608000000000001,
          0.46619999999999995,
          0.4712,
          0.4758,
          0.48,
          0.4838,
          0.4872,
          0.49019999999999997,
          0.49279999999999996,
          0.49499999999999994,
          0.49679999999999996,
          0.49819999999999987,
          0.4991999999999999,
          0.4998,
          0.5,
          0.4998,
          0.49920000000000003,
          0.4982,
          0.49679999999999996,
          0.49500000000000005,
          0.4927999999999999,
          0.49019999999999997,
          0.4872,
          0.4838,
          0.48,
          0.4758,
          0.47119999999999995,
          0.46619999999999995,
          0.46080000000000004,
          0.4549999999999999,
          0.44880000000000003,
          0.4421999999999999,
          0.4351999999999999,
          0.42779999999999996,
          0.41999999999999993,
          0.41179999999999994,
          0.4032,
          0.39420000000000005,
          0.38480000000000003,
          0.375,
          0.3648,
          0.3542,
          0.34319999999999995,
          0.33179999999999993,
          0.3199999999999999,
          0.3077999999999999,
          0.2951999999999999,
          0.28219999999999995,
          0.26879999999999993,
          0.25500000000000006,
          0.24080000000000007,
          0.22619999999999998,
          0.21120000000000003,
          0.19579999999999997,
          0.17999999999999994,
          0.16379999999999995,
          0.14719999999999997,
          0.1301999999999999,
          0.11279999999999984,
          0.09499999999999993,
          0.07679999999999981,
          0.058200000000000036,
          0.03920000000000008,
          0.01980000000000003
         ],
         "yaxis": "y"
        },
        {
         "hovertemplate": "variable=entropy<br>ratio of class 0=%{x}<br>value=%{y}<extra></extra>",
         "legendgroup": "entropy",
         "line": {
          "color": "#EF553B",
          "dash": "solid"
         },
         "marker": {
          "symbol": "circle"
         },
         "mode": "lines",
         "name": "entropy",
         "orientation": "v",
         "showlegend": true,
         "type": "scatter",
         "x": [
          0.01,
          0.02,
          0.03,
          0.04,
          0.05,
          0.060000000000000005,
          0.06999999999999999,
          0.08,
          0.09,
          0.09999999999999999,
          0.11,
          0.12,
          0.13,
          0.14,
          0.15000000000000002,
          0.16,
          0.17,
          0.18000000000000002,
          0.19,
          0.2,
          0.21000000000000002,
          0.22,
          0.23,
          0.24000000000000002,
          0.25,
          0.26,
          0.27,
          0.28,
          0.29000000000000004,
          0.3,
          0.31,
          0.32,
          0.33,
          0.34,
          0.35000000000000003,
          0.36000000000000004,
          0.37,
          0.38,
          0.39,
          0.4,
          0.41000000000000003,
          0.42000000000000004,
          0.43,
          0.44,
          0.45,
          0.46,
          0.47000000000000003,
          0.48000000000000004,
          0.49,
          0.5,
          0.51,
          0.52,
          0.53,
          0.54,
          0.55,
          0.56,
          0.5700000000000001,
          0.5800000000000001,
          0.59,
          0.6,
          0.61,
          0.62,
          0.63,
          0.64,
          0.65,
          0.66,
          0.67,
          0.68,
          0.6900000000000001,
          0.7000000000000001,
          0.7100000000000001,
          0.72,
          0.73,
          0.74,
          0.75,
          0.76,
          0.77,
          0.78,
          0.79,
          0.8,
          0.81,
          0.8200000000000001,
          0.8300000000000001,
          0.8400000000000001,
          0.85,
          0.86,
          0.87,
          0.88,
          0.89,
          0.9,
          0.91,
          0.92,
          0.93,
          0.9400000000000001,
          0.9500000000000001,
          0.9600000000000001,
          0.97,
          0.98,
          0.99
         ],
         "xaxis": "x",
         "y": [
          0.08079313589591118,
          0.14144054254182067,
          0.1943918578315762,
          0.24229218908241482,
          0.28639695711595625,
          0.32744491915447627,
          0.3659236509002231,
          0.4021791902022728,
          0.43646981706410287,
          0.4689955935892812,
          0.499915958164528,
          0.5293608652873644,
          0.557438185027989,
          0.584238811642856,
          0.6098403047164005,
          0.6343095546405662,
          0.6577047787442195,
          0.6800770457282799,
          0.7014714598838974,
          0.7219280948873623,
          0.7414827399312737,
          0.7601675029619657,
          0.7780113035465377,
          0.7950402793845222,
          0.8112781244591328,
          0.8267463724926178,
          0.8414646362081757,
          0.8554508105601306,
          0.8687212463394046,
          0.8812908992306927,
          0.8931734583778568,
          0.9043814577244939,
          0.9149263727797275,
          0.9248187049730301,
          0.934068055375491,
          0.9426831892554923,
          0.9506720926870659,
          0.9580420222262995,
          0.9647995485050872,
          0.9709505944546686,
          0.976500468757824,
          0.9814538950336537,
          0.9858150371789197,
          0.9895875212220556,
          0.9927744539878083,
          0.9953784388202257,
          0.9974015885677396,
          0.998845535995202,
          0.9997114417528099,
          1,
          0.9997114417528099,
          0.9988455359952018,
          0.9974015885677396,
          0.9953784388202257,
          0.9927744539878083,
          0.9895875212220556,
          0.9858150371789198,
          0.9814538950336534,
          0.976500468757824,
          0.9709505944546686,
          0.9647995485050872,
          0.9580420222262995,
          0.9506720926870659,
          0.9426831892554922,
          0.934068055375491,
          0.92481870497303,
          0.9149263727797274,
          0.9043814577244937,
          0.8931734583778567,
          0.8812908992306926,
          0.8687212463394044,
          0.8554508105601306,
          0.8414646362081757,
          0.8267463724926178,
          0.8112781244591328,
          0.7950402793845223,
          0.7780113035465376,
          0.7601675029619656,
          0.7414827399312736,
          0.7219280948873623,
          0.7014714598838974,
          0.6800770457282796,
          0.6577047787442193,
          0.6343095546405659,
          0.6098403047164005,
          0.584238811642856,
          0.557438185027989,
          0.5293608652873644,
          0.49991595816452794,
          0.4689955935892811,
          0.4364698170641028,
          0.40217919020227266,
          0.36592365090022305,
          0.32744491915447593,
          0.2863969571159558,
          0.2422921890824144,
          0.1943918578315763,
          0.14144054254182076,
          0.08079313589591124
         ],
         "yaxis": "y"
        }
       ],
       "layout": {
        "legend": {
         "title": {
          "text": "variable"
         },
         "tracegroupgap": 0
        },
        "template": {
         "data": {
          "bar": [
           {
            "error_x": {
             "color": "#2a3f5f"
            },
            "error_y": {
             "color": "#2a3f5f"
            },
            "marker": {
             "line": {
              "color": "#E5ECF6",
              "width": 0.5
             },
             "pattern": {
              "fillmode": "overlay",
              "size": 10,
              "solidity": 0.2
             }
            },
            "type": "bar"
           }
          ],
          "barpolar": [
           {
            "marker": {
             "line": {
              "color": "#E5ECF6",
              "width": 0.5
             },
             "pattern": {
              "fillmode": "overlay",
              "size": 10,
              "solidity": 0.2
             }
            },
            "type": "barpolar"
           }
          ],
          "carpet": [
           {
            "aaxis": {
             "endlinecolor": "#2a3f5f",
             "gridcolor": "white",
             "linecolor": "white",
             "minorgridcolor": "white",
             "startlinecolor": "#2a3f5f"
            },
            "baxis": {
             "endlinecolor": "#2a3f5f",
             "gridcolor": "white",
             "linecolor": "white",
             "minorgridcolor": "white",
             "startlinecolor": "#2a3f5f"
            },
            "type": "carpet"
           }
          ],
          "choropleth": [
           {
            "colorbar": {
             "outlinewidth": 0,
             "ticks": ""
            },
            "type": "choropleth"
           }
          ],
          "contour": [
           {
            "colorbar": {
             "outlinewidth": 0,
             "ticks": ""
            },
            "colorscale": [
             [
              0,
              "#0d0887"
             ],
             [
              0.1111111111111111,
              "#46039f"
             ],
             [
              0.2222222222222222,
              "#7201a8"
             ],
             [
              0.3333333333333333,
              "#9c179e"
             ],
             [
              0.4444444444444444,
              "#bd3786"
             ],
             [
              0.5555555555555556,
              "#d8576b"
             ],
             [
              0.6666666666666666,
              "#ed7953"
             ],
             [
              0.7777777777777778,
              "#fb9f3a"
             ],
             [
              0.8888888888888888,
              "#fdca26"
             ],
             [
              1,
              "#f0f921"
             ]
            ],
            "type": "contour"
           }
          ],
          "contourcarpet": [
           {
            "colorbar": {
             "outlinewidth": 0,
             "ticks": ""
            },
            "type": "contourcarpet"
           }
          ],
          "heatmap": [
           {
            "colorbar": {
             "outlinewidth": 0,
             "ticks": ""
            },
            "colorscale": [
             [
              0,
              "#0d0887"
             ],
             [
              0.1111111111111111,
              "#46039f"
             ],
             [
              0.2222222222222222,
              "#7201a8"
             ],
             [
              0.3333333333333333,
              "#9c179e"
             ],
             [
              0.4444444444444444,
              "#bd3786"
             ],
             [
              0.5555555555555556,
              "#d8576b"
             ],
             [
              0.6666666666666666,
              "#ed7953"
             ],
             [
              0.7777777777777778,
              "#fb9f3a"
             ],
             [
              0.8888888888888888,
              "#fdca26"
             ],
             [
              1,
              "#f0f921"
             ]
            ],
            "type": "heatmap"
           }
          ],
          "heatmapgl": [
           {
            "colorbar": {
             "outlinewidth": 0,
             "ticks": ""
            },
            "colorscale": [
             [
              0,
              "#0d0887"
             ],
             [
              0.1111111111111111,
              "#46039f"
             ],
             [
              0.2222222222222222,
              "#7201a8"
             ],
             [
              0.3333333333333333,
              "#9c179e"
             ],
             [
              0.4444444444444444,
              "#bd3786"
             ],
             [
              0.5555555555555556,
              "#d8576b"
             ],
             [
              0.6666666666666666,
              "#ed7953"
             ],
             [
              0.7777777777777778,
              "#fb9f3a"
             ],
             [
              0.8888888888888888,
              "#fdca26"
             ],
             [
              1,
              "#f0f921"
             ]
            ],
            "type": "heatmapgl"
           }
          ],
          "histogram": [
           {
            "marker": {
             "pattern": {
              "fillmode": "overlay",
              "size": 10,
              "solidity": 0.2
             }
            },
            "type": "histogram"
           }
          ],
          "histogram2d": [
           {
            "colorbar": {
             "outlinewidth": 0,
             "ticks": ""
            },
            "colorscale": [
             [
              0,
              "#0d0887"
             ],
             [
              0.1111111111111111,
              "#46039f"
             ],
             [
              0.2222222222222222,
              "#7201a8"
             ],
             [
              0.3333333333333333,
              "#9c179e"
             ],
             [
              0.4444444444444444,
              "#bd3786"
             ],
             [
              0.5555555555555556,
              "#d8576b"
             ],
             [
              0.6666666666666666,
              "#ed7953"
             ],
             [
              0.7777777777777778,
              "#fb9f3a"
             ],
             [
              0.8888888888888888,
              "#fdca26"
             ],
             [
              1,
              "#f0f921"
             ]
            ],
            "type": "histogram2d"
           }
          ],
          "histogram2dcontour": [
           {
            "colorbar": {
             "outlinewidth": 0,
             "ticks": ""
            },
            "colorscale": [
             [
              0,
              "#0d0887"
             ],
             [
              0.1111111111111111,
              "#46039f"
             ],
             [
              0.2222222222222222,
              "#7201a8"
             ],
             [
              0.3333333333333333,
              "#9c179e"
             ],
             [
              0.4444444444444444,
              "#bd3786"
             ],
             [
              0.5555555555555556,
              "#d8576b"
             ],
             [
              0.6666666666666666,
              "#ed7953"
             ],
             [
              0.7777777777777778,
              "#fb9f3a"
             ],
             [
              0.8888888888888888,
              "#fdca26"
             ],
             [
              1,
              "#f0f921"
             ]
            ],
            "type": "histogram2dcontour"
           }
          ],
          "mesh3d": [
           {
            "colorbar": {
             "outlinewidth": 0,
             "ticks": ""
            },
            "type": "mesh3d"
           }
          ],
          "parcoords": [
           {
            "line": {
             "colorbar": {
              "outlinewidth": 0,
              "ticks": ""
             }
            },
            "type": "parcoords"
           }
          ],
          "pie": [
           {
            "automargin": true,
            "type": "pie"
           }
          ],
          "scatter": [
           {
            "fillpattern": {
             "fillmode": "overlay",
             "size": 10,
             "solidity": 0.2
            },
            "type": "scatter"
           }
          ],
          "scatter3d": [
           {
            "line": {
             "colorbar": {
              "outlinewidth": 0,
              "ticks": ""
             }
            },
            "marker": {
             "colorbar": {
              "outlinewidth": 0,
              "ticks": ""
             }
            },
            "type": "scatter3d"
           }
          ],
          "scattercarpet": [
           {
            "marker": {
             "colorbar": {
              "outlinewidth": 0,
              "ticks": ""
             }
            },
            "type": "scattercarpet"
           }
          ],
          "scattergeo": [
           {
            "marker": {
             "colorbar": {
              "outlinewidth": 0,
              "ticks": ""
             }
            },
            "type": "scattergeo"
           }
          ],
          "scattergl": [
           {
            "marker": {
             "colorbar": {
              "outlinewidth": 0,
              "ticks": ""
             }
            },
            "type": "scattergl"
           }
          ],
          "scattermapbox": [
           {
            "marker": {
             "colorbar": {
              "outlinewidth": 0,
              "ticks": ""
             }
            },
            "type": "scattermapbox"
           }
          ],
          "scatterpolar": [
           {
            "marker": {
             "colorbar": {
              "outlinewidth": 0,
              "ticks": ""
             }
            },
            "type": "scatterpolar"
           }
          ],
          "scatterpolargl": [
           {
            "marker": {
             "colorbar": {
              "outlinewidth": 0,
              "ticks": ""
             }
            },
            "type": "scatterpolargl"
           }
          ],
          "scatterternary": [
           {
            "marker": {
             "colorbar": {
              "outlinewidth": 0,
              "ticks": ""
             }
            },
            "type": "scatterternary"
           }
          ],
          "surface": [
           {
            "colorbar": {
             "outlinewidth": 0,
             "ticks": ""
            },
            "colorscale": [
             [
              0,
              "#0d0887"
             ],
             [
              0.1111111111111111,
              "#46039f"
             ],
             [
              0.2222222222222222,
              "#7201a8"
             ],
             [
              0.3333333333333333,
              "#9c179e"
             ],
             [
              0.4444444444444444,
              "#bd3786"
             ],
             [
              0.5555555555555556,
              "#d8576b"
             ],
             [
              0.6666666666666666,
              "#ed7953"
             ],
             [
              0.7777777777777778,
              "#fb9f3a"
             ],
             [
              0.8888888888888888,
              "#fdca26"
             ],
             [
              1,
              "#f0f921"
             ]
            ],
            "type": "surface"
           }
          ],
          "table": [
           {
            "cells": {
             "fill": {
              "color": "#EBF0F8"
             },
             "line": {
              "color": "white"
             }
            },
            "header": {
             "fill": {
              "color": "#C8D4E3"
             },
             "line": {
              "color": "white"
             }
            },
            "type": "table"
           }
          ]
         },
         "layout": {
          "annotationdefaults": {
           "arrowcolor": "#2a3f5f",
           "arrowhead": 0,
           "arrowwidth": 1
          },
          "autotypenumbers": "strict",
          "coloraxis": {
           "colorbar": {
            "outlinewidth": 0,
            "ticks": ""
           }
          },
          "colorscale": {
           "diverging": [
            [
             0,
             "#8e0152"
            ],
            [
             0.1,
             "#c51b7d"
            ],
            [
             0.2,
             "#de77ae"
            ],
            [
             0.3,
             "#f1b6da"
            ],
            [
             0.4,
             "#fde0ef"
            ],
            [
             0.5,
             "#f7f7f7"
            ],
            [
             0.6,
             "#e6f5d0"
            ],
            [
             0.7,
             "#b8e186"
            ],
            [
             0.8,
             "#7fbc41"
            ],
            [
             0.9,
             "#4d9221"
            ],
            [
             1,
             "#276419"
            ]
           ],
           "sequential": [
            [
             0,
             "#0d0887"
            ],
            [
             0.1111111111111111,
             "#46039f"
            ],
            [
             0.2222222222222222,
             "#7201a8"
            ],
            [
             0.3333333333333333,
             "#9c179e"
            ],
            [
             0.4444444444444444,
             "#bd3786"
            ],
            [
             0.5555555555555556,
             "#d8576b"
            ],
            [
             0.6666666666666666,
             "#ed7953"
            ],
            [
             0.7777777777777778,
             "#fb9f3a"
            ],
            [
             0.8888888888888888,
             "#fdca26"
            ],
            [
             1,
             "#f0f921"
            ]
           ],
           "sequentialminus": [
            [
             0,
             "#0d0887"
            ],
            [
             0.1111111111111111,
             "#46039f"
            ],
            [
             0.2222222222222222,
             "#7201a8"
            ],
            [
             0.3333333333333333,
             "#9c179e"
            ],
            [
             0.4444444444444444,
             "#bd3786"
            ],
            [
             0.5555555555555556,
             "#d8576b"
            ],
            [
             0.6666666666666666,
             "#ed7953"
            ],
            [
             0.7777777777777778,
             "#fb9f3a"
            ],
            [
             0.8888888888888888,
             "#fdca26"
            ],
            [
             1,
             "#f0f921"
            ]
           ]
          },
          "colorway": [
           "#636efa",
           "#EF553B",
           "#00cc96",
           "#ab63fa",
           "#FFA15A",
           "#19d3f3",
           "#FF6692",
           "#B6E880",
           "#FF97FF",
           "#FECB52"
          ],
          "font": {
           "color": "#2a3f5f"
          },
          "geo": {
           "bgcolor": "white",
           "lakecolor": "white",
           "landcolor": "#E5ECF6",
           "showlakes": true,
           "showland": true,
           "subunitcolor": "white"
          },
          "hoverlabel": {
           "align": "left"
          },
          "hovermode": "closest",
          "mapbox": {
           "style": "light"
          },
          "paper_bgcolor": "white",
          "plot_bgcolor": "#E5ECF6",
          "polar": {
           "angularaxis": {
            "gridcolor": "white",
            "linecolor": "white",
            "ticks": ""
           },
           "bgcolor": "#E5ECF6",
           "radialaxis": {
            "gridcolor": "white",
            "linecolor": "white",
            "ticks": ""
           }
          },
          "scene": {
           "xaxis": {
            "backgroundcolor": "#E5ECF6",
            "gridcolor": "white",
            "gridwidth": 2,
            "linecolor": "white",
            "showbackground": true,
            "ticks": "",
            "zerolinecolor": "white"
           },
           "yaxis": {
            "backgroundcolor": "#E5ECF6",
            "gridcolor": "white",
            "gridwidth": 2,
            "linecolor": "white",
            "showbackground": true,
            "ticks": "",
            "zerolinecolor": "white"
           },
           "zaxis": {
            "backgroundcolor": "#E5ECF6",
            "gridcolor": "white",
            "gridwidth": 2,
            "linecolor": "white",
            "showbackground": true,
            "ticks": "",
            "zerolinecolor": "white"
           }
          },
          "shapedefaults": {
           "line": {
            "color": "#2a3f5f"
           }
          },
          "ternary": {
           "aaxis": {
            "gridcolor": "white",
            "linecolor": "white",
            "ticks": ""
           },
           "baxis": {
            "gridcolor": "white",
            "linecolor": "white",
            "ticks": ""
           },
           "bgcolor": "#E5ECF6",
           "caxis": {
            "gridcolor": "white",
            "linecolor": "white",
            "ticks": ""
           }
          },
          "title": {
           "x": 0.05
          },
          "xaxis": {
           "automargin": true,
           "gridcolor": "white",
           "linecolor": "white",
           "ticks": "",
           "title": {
            "standoff": 15
           },
           "zerolinecolor": "white",
           "zerolinewidth": 2
          },
          "yaxis": {
           "automargin": true,
           "gridcolor": "white",
           "linecolor": "white",
           "ticks": "",
           "title": {
            "standoff": 15
           },
           "zerolinecolor": "white",
           "zerolinewidth": 2
          }
         }
        },
        "title": {
         "text": "Binary Classification Homogeneity"
        },
        "xaxis": {
         "anchor": "y",
         "domain": [
          0,
          1
         ],
         "title": {
          "text": "ratio of class 0"
         }
        },
        "yaxis": {
         "anchor": "x",
         "domain": [
          0,
          1
         ],
         "title": {
          "text": "value"
         }
        }
       }
      }
     },
     "metadata": {},
     "output_type": "display_data"
    }
   ],
   "source": [
    "import numpy as np\n",
    "import plotly.express as px\n",
    "import pandas as pd\n",
    "\n",
    "\n",
    "p_0 = np.arange(0.01, 1, 0.01)\n",
    "p_1 = 1 - p_0\n",
    "gi = 1 - p_0 ** 2 - p_1 ** 2\n",
    "e = - p_0 * np.log2(p_0)-p_1 * np.log2(p_1)\n",
    "\n",
    "df = pd.DataFrame({\"ratio of class 0\": p_0, \"gini impurity\": gi, \"entropy\": e, })\n",
    "px.line(df, x=\"ratio of class 0\", y=[\"gini impurity\", \"entropy\"], title=\"Binary Classification Homogeneity\")"
   ]
  },
  {
   "cell_type": "markdown",
   "metadata": {},
   "source": [
    "## Implement Decision Tree Classifer from Scratch"
   ]
  },
  {
   "cell_type": "code",
   "execution_count": 2,
   "metadata": {},
   "outputs": [],
   "source": [
    "from dataclasses import dataclass\n",
    "\n",
    "import numpy as np\n",
    "\n",
    "\n",
    "def gini_impurity(y) -> float:\n",
    "    p_k = np.array([(y == k).mean() for k in np.unique(y)])\n",
    "    return p_k.T @ (1 - p_k)\n",
    "\n",
    "\n",
    "def entropy(y) -> float:\n",
    "    p_k = np.array([(y == k).mean() for k in np.unique(y)])\n",
    "    return - p_k.T @ np.log(p_k)\n",
    "\n",
    "\n",
    "@dataclass\n",
    "class Node:\n",
    "    # attributes for non-leaf nodes\n",
    "    left_child: \"Node\" = None\n",
    "    right_child: \"Node\" = None\n",
    "    feature: int = None\n",
    "    threshold: float = None\n",
    "\n",
    "    # attributes for leaf nodes\n",
    "    # this is an array of p_k\n",
    "    value: np.ndarray = None\n",
    "\n",
    "    def is_leaf(self):\n",
    "        return self.value is not None\n",
    "\n",
    "\n",
    "class DTClassifier:\n",
    "    def __init__(self, criterion=\"gini\", max_depth=3, min_samples_split=2, min_samples_leaf=1, max_features=None, min_information_gain=0):\n",
    "        self.max_depth = max_depth\n",
    "        self.min_samples_split = min_samples_split\n",
    "        self.min_samples_leaf = min_samples_leaf\n",
    "        self.max_depth = max_depth\n",
    "        self.max_features = max_features\n",
    "        self.min_information_gain = min_information_gain\n",
    "\n",
    "        if criterion == \"gini\":\n",
    "            self.impurity_func = gini_impurity\n",
    "        elif criterion == \"entropy\":\n",
    "            self.impurity_func = entropy\n",
    "        else:\n",
    "            raise Exception(\"criterio must be one of ['gini', 'entropy']\")\n",
    "    \n",
    "    def predict(self, X):\n",
    "        p = self.predict_proba(X)\n",
    "        return np.argmax(p, axis=1)\n",
    "\n",
    "    def predict_proba(self, X):\n",
    "        return np.array([self._predict_row(x, self.root) for x in X])\n",
    "    \n",
    "    def _predict_row(self, x, node):\n",
    "        if node.is_leaf():\n",
    "            return node.value\n",
    "        if x[node.feature] < node.threshold:\n",
    "            return self._predict_row(x, node.left_child)\n",
    "        else:\n",
    "            return self._predict_row(x, node.right_child)\n",
    "    \n",
    "    def fit(self, X, y):\n",
    "        self.n_categories = len(np.unique(y))\n",
    "        self.root = self._grow_tree(X, y)\n",
    "    \n",
    "    def _grow_tree(self, X, y, depth=1):\n",
    "        # check if stopping criteria is met\n",
    "        if depth > self.max_depth or len(np.unique(y)) == 1 or len(y) < self.min_samples_split:\n",
    "            return Node(value=np.bincount(y, minlength=self.n_categories) / len(y))\n",
    "        \n",
    "        # find best split that maximize information gain\n",
    "        best_feature, best_threshold = self._get_best_split(X, y)\n",
    "        if best_feature is None:\n",
    "            return Node(value=np.bincount(y, minlength=self.n_categories) / len(y))\n",
    "        \n",
    "        # check if the split is legal\n",
    "        X_left, X_right, y_left, y_right = self._split(X, y, best_feature, best_threshold, return_X=True)\n",
    "        if len(y_left) < self.min_samples_leaf or len(y_right) < self.min_samples_leaf:\n",
    "            return Node(value=np.bincount(y, minlength=self.n_categories) / len(y))\n",
    "        \n",
    "        # perform the split\n",
    "        left_node = self._grow_tree(X_left, y_left, depth+1)\n",
    "        right_node = self._grow_tree(X_right, y_right, depth+1)\n",
    "        return Node(left_child=left_node, right_child=right_node, feature=best_feature, threshold=best_threshold)\n",
    "    \n",
    "\n",
    "    def _get_best_split(self, X, y):\n",
    "        m, n = X.shape\n",
    "        if self.max_features is None or self.max_features > n:\n",
    "            max_features = n\n",
    "        else:\n",
    "            max_features = self.max_features\n",
    "\n",
    "        H_p = self.impurity_func(y)\n",
    "\n",
    "        best_ig = - np.inf\n",
    "        best_feature = None\n",
    "        best_threshold = None\n",
    "\n",
    "        for feature in np.random.choice(n, max_features, replace=False):\n",
    "            thresholds = np.unique(X[:, feature])[1:]\n",
    "            for threshold in thresholds:\n",
    "                y_left, y_right = self._split(X, y, feature, threshold)\n",
    "                H_l = self.impurity_func(y_left)\n",
    "                H_r = self.impurity_func(y_right)\n",
    "                ig = H_p - len(y_left) / m * H_l - len(y_right) / m * H_r\n",
    "\n",
    "                if ig > best_ig:\n",
    "                    best_ig = ig\n",
    "                    best_feature = feature\n",
    "                    best_threshold = threshold\n",
    "        \n",
    "        if best_ig < self.min_information_gain:\n",
    "            return None, None\n",
    "        \n",
    "        return best_feature, best_threshold\n",
    "    \n",
    "\n",
    "    def _split(self, X, y, feature, threshold, return_X=False):\n",
    "        left_mask = X[:, feature] < threshold\n",
    "        right_mask = X[:, feature] >= threshold\n",
    "        \n",
    "        if return_X:\n",
    "            return X[left_mask], X[right_mask], y[left_mask], y[right_mask]\n",
    "        return y[left_mask], y[right_mask]\n",
    "    \n",
    "\n",
    "    def _print_node(self, node, indent):\n",
    "        if node.is_leaf():\n",
    "            print(f\"{' '*indent}leaf values: {node.value}\")\n",
    "        else:\n",
    "            print(f\"{' '*indent}feature: {node.feature}, threshold: {node.threshold}\")\n",
    "            self._print_node(node.left_child, indent+1)\n",
    "            self._print_node(node.right_child, indent+1)\n",
    "\n",
    "    def print_tree(self):\n",
    "        self._print_node(self.root, 0)"
   ]
  },
  {
   "cell_type": "markdown",
   "metadata": {},
   "source": [
    "We'll use the algorithm implemented above on the Iris dataset, which presents a multiclass classification problem."
   ]
  },
  {
   "cell_type": "code",
   "execution_count": 3,
   "metadata": {},
   "outputs": [
    {
     "name": "stdout",
     "output_type": "stream",
     "text": [
      "dict_keys(['data', 'target', 'frame', 'target_names', 'DESCR', 'feature_names', 'filename', 'data_module'])\n",
      "['sepal length (cm)', 'sepal width (cm)', 'petal length (cm)', 'petal width (cm)']\n",
      "['setosa' 'versicolor' 'virginica']\n"
     ]
    }
   ],
   "source": [
    "from sklearn.datasets import load_iris\n",
    "from sklearn.model_selection import train_test_split\n",
    "\n",
    "data = load_iris()\n",
    "X = data.data\n",
    "y = data.target\n",
    "print(data.keys())\n",
    "print(data.feature_names)\n",
    "print(data.target_names)\n",
    "\n",
    "X_train, X_test, y_train, y_test = train_test_split(X, y, test_size=0.2, random_state=42)"
   ]
  },
  {
   "cell_type": "code",
   "execution_count": 4,
   "metadata": {},
   "outputs": [
    {
     "name": "stdout",
     "output_type": "stream",
     "text": [
      "feature: 3, threshold: 1.0\n",
      " leaf values: [1. 0. 0.]\n",
      " feature: 2, threshold: 4.8\n",
      "  leaf values: [0.         0.97297297 0.02702703]\n",
      "  leaf values: [0.         0.11627907 0.88372093]\n"
     ]
    }
   ],
   "source": [
    "dtc = DTClassifier(max_features=4, max_depth=2)\n",
    "dtc.fit(X_train, y_train)\n",
    "dtc.print_tree()"
   ]
  },
  {
   "cell_type": "code",
   "execution_count": 5,
   "metadata": {},
   "outputs": [
    {
     "data": {
      "text/plain": [
       "array([1, 0, 2, 1, 2, 0, 1, 2, 1, 1, 2, 0, 0, 0, 0, 1, 2, 1, 1, 2, 0, 2,\n",
       "       0, 2, 2, 2, 2, 2, 0, 0])"
      ]
     },
     "execution_count": 5,
     "metadata": {},
     "output_type": "execute_result"
    }
   ],
   "source": [
    "y_pred = dtc.predict(X_test)\n",
    "y_pred"
   ]
  },
  {
   "cell_type": "code",
   "execution_count": 6,
   "metadata": {},
   "outputs": [
    {
     "data": {
      "text/plain": [
       "array([[0.        , 0.97297297, 0.02702703],\n",
       "       [1.        , 0.        , 0.        ],\n",
       "       [0.        , 0.11627907, 0.88372093],\n",
       "       [0.        , 0.97297297, 0.02702703],\n",
       "       [0.        , 0.11627907, 0.88372093],\n",
       "       [1.        , 0.        , 0.        ],\n",
       "       [0.        , 0.97297297, 0.02702703],\n",
       "       [0.        , 0.11627907, 0.88372093],\n",
       "       [0.        , 0.97297297, 0.02702703],\n",
       "       [0.        , 0.97297297, 0.02702703],\n",
       "       [0.        , 0.11627907, 0.88372093],\n",
       "       [1.        , 0.        , 0.        ],\n",
       "       [1.        , 0.        , 0.        ],\n",
       "       [1.        , 0.        , 0.        ],\n",
       "       [1.        , 0.        , 0.        ],\n",
       "       [0.        , 0.97297297, 0.02702703],\n",
       "       [0.        , 0.11627907, 0.88372093],\n",
       "       [0.        , 0.97297297, 0.02702703],\n",
       "       [0.        , 0.97297297, 0.02702703],\n",
       "       [0.        , 0.11627907, 0.88372093],\n",
       "       [1.        , 0.        , 0.        ],\n",
       "       [0.        , 0.11627907, 0.88372093],\n",
       "       [1.        , 0.        , 0.        ],\n",
       "       [0.        , 0.11627907, 0.88372093],\n",
       "       [0.        , 0.11627907, 0.88372093],\n",
       "       [0.        , 0.11627907, 0.88372093],\n",
       "       [0.        , 0.11627907, 0.88372093],\n",
       "       [0.        , 0.11627907, 0.88372093],\n",
       "       [1.        , 0.        , 0.        ],\n",
       "       [1.        , 0.        , 0.        ]])"
      ]
     },
     "execution_count": 6,
     "metadata": {},
     "output_type": "execute_result"
    }
   ],
   "source": [
    "dtc.predict_proba(X_test)"
   ]
  },
  {
   "cell_type": "code",
   "execution_count": 7,
   "metadata": {},
   "outputs": [
    {
     "name": "stdout",
     "output_type": "stream",
     "text": [
      "              precision    recall  f1-score   support\n",
      "\n",
      "      setosa       1.00      1.00      1.00        10\n",
      "  versicolor       1.00      0.89      0.94         9\n",
      "   virginica       0.92      1.00      0.96        11\n",
      "\n",
      "    accuracy                           0.97        30\n",
      "   macro avg       0.97      0.96      0.97        30\n",
      "weighted avg       0.97      0.97      0.97        30\n",
      "\n"
     ]
    }
   ],
   "source": [
    "from sklearn.metrics import classification_report\n",
    "\n",
    "\n",
    "print(classification_report(y_test, y_pred, target_names=data.target_names))"
   ]
  },
  {
   "cell_type": "markdown",
   "metadata": {},
   "source": [
    "# Resources\n",
    "\n",
    "- [scikit-learn tree mathematical formation](https://scikit-learn.org/stable/modules/tree.html#tree-mathematical-formulation)"
   ]
  }
 ],
 "metadata": {
  "kernelspec": {
   "display_name": ".venv",
   "language": "python",
   "name": "python3"
  },
  "language_info": {
   "codemirror_mode": {
    "name": "ipython",
    "version": 3
   },
   "file_extension": ".py",
   "mimetype": "text/x-python",
   "name": "python",
   "nbconvert_exporter": "python",
   "pygments_lexer": "ipython3",
   "version": "3.10.1"
  }
 },
 "nbformat": 4,
 "nbformat_minor": 2
}
